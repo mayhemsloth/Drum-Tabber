{
 "cells": [
  {
   "cell_type": "markdown",
   "metadata": {},
   "source": [
    "# Training Set Preparation and Neural Network Structure\n"
   ]
  },
  {
   "cell_type": "markdown",
   "metadata": {},
   "source": [
    "#### List of Useful Shortcuts\n",
    "\n",
    "* Ctrl + shift + P = List of Shortcuts\n",
    "* Enter (command mode) = Enter Edit Mode (enter cell to edit it)\n",
    "* Esc (edit mode) = Enter Command Mode (exit cell)\n",
    "* A = Create Cell above\n",
    "* B = Create Cell below\n",
    "* D,D = Delete Cell\n",
    "* Shift + Enter = Run Cell (code or markdown)\n",
    "* M = Change Cell to Markdown\n",
    "* Y = Change Cell to Code\n",
    "* Ctrl + Shift + Minus = Split Cell at Cursor"
   ]
  },
  {
   "cell_type": "code",
   "execution_count": null,
   "metadata": {},
   "outputs": [],
   "source": []
  }
 ],
 "metadata": {
  "kernelspec": {
   "display_name": "Python 3",
   "language": "python",
   "name": "python3"
  },
  "language_info": {
   "codemirror_mode": {
    "name": "ipython",
    "version": 3
   },
   "file_extension": ".py",
   "mimetype": "text/x-python",
   "name": "python",
   "nbconvert_exporter": "python",
   "pygments_lexer": "ipython3",
   "version": "3.7.4"
  }
 },
 "nbformat": 4,
 "nbformat_minor": 2
}
