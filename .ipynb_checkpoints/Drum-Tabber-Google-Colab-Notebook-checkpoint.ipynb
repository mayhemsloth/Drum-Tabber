{
 "cells": [
  {
   "cell_type": "markdown",
   "metadata": {},
   "source": [
    "This Jupyter Notebook is meant to be accessed via Google Colab and will be the main method to train models on Google Colab."
   ]
  },
  {
   "cell_type": "code",
   "execution_count": 2,
   "metadata": {},
   "outputs": [],
   "source": [
    "# primary importing code block to utilize the python files\n",
    "import os\n",
    "import json\n",
    "import random\n",
    "import numpy as np\n",
    "import pandas as pd\n",
    "import matplotlib.pyplot as plt\n",
    "import tensorflow as tf\n",
    "from tensorflow.keras.layers import Conv2D, Input, LeakyReLU, ZeroPadding2D, BatchNormalization, MaxPool2D\n",
    "from pydub import AudioSegment   # main class from pydub package used to upload mp3 into Python and then get a NumPy array\n",
    "import IPython.display as ipd    # ability to play audio in Jupyter Notebooks if needed\n",
    "import librosa as lb             # loads the librosa package\n",
    "import librosa.display\n",
    "from src.configs import *\n",
    "from src.utils import MusicAlignedTab, create_FullSet_df, one_hot_encode, collapse_class, clean_labels\n",
    "from src.utils import save_drum_tabber_model, load_drum_tabber_model, create_configs_dict\n",
    "from src.dataset import Dataset"
   ]
  },
  {
   "cell_type": "code",
   "execution_count": null,
   "metadata": {
    "scrolled": true
   },
   "outputs": [],
   "source": [
    "mat = MusicAlignedTab('mookies_last_christmas')\n",
    "df = mat.MAT"
   ]
  },
  {
   "cell_type": "code",
   "execution_count": null,
   "metadata": {},
   "outputs": [],
   "source": [
    "df = clean_labels(df)\n",
    "MusicAlignedTab.labels_summary(df)\n",
    "df = collapse_class(df, keep_dynamics = False, keep_bells = False, keep_toms_separate = False, hihat_classes=1, cymbal_classes=1)\n",
    "MusicAlignedTab.labels_summary(df)"
   ]
  },
  {
   "cell_type": "code",
   "execution_count": null,
   "metadata": {},
   "outputs": [],
   "source": [
    "encode_df = one_hot_encode(df)\n",
    "print(encode_df.columns)\n",
    "encode_df.head()"
   ]
  },
  {
   "cell_type": "code",
   "execution_count": null,
   "metadata": {},
   "outputs": [],
   "source": [
    "%time targets, target_dict = create_targets(S, encode_df)"
   ]
  },
  {
   "cell_type": "code",
   "execution_count": null,
   "metadata": {},
   "outputs": [],
   "source": [
    "for idx, val in target_dict.items():\n",
    "    print(f'total windows that {val} are labeled 1 = {np.count_nonzero(targets[idx,:,0])}')\n",
    "print(f'total windows = {targets.shape[1]}')"
   ]
  },
  {
   "cell_type": "code",
   "execution_count": null,
   "metadata": {},
   "outputs": [],
   "source": [
    "fig = plt.figure(figsize = (10,10))\n",
    "ax = fig.add_subplot()\n",
    "plt.imshow(targets[:,:,1])\n",
    "plt.show()"
   ]
  },
  {
   "cell_type": "code",
   "execution_count": null,
   "metadata": {},
   "outputs": [],
   "source": [
    "MusicAlignedTab.labels_summary(encode_df)"
   ]
  },
  {
   "cell_type": "code",
   "execution_count": null,
   "metadata": {},
   "outputs": [],
   "source": [
    "targets = np.zeros((7, 10, 3), dtype=int)\n",
    "print(targets.shape)\n",
    "targets[:, 0, :]"
   ]
  },
  {
   "cell_type": "code",
   "execution_count": null,
   "metadata": {},
   "outputs": [],
   "source": [
    "df.drop(columns = ['song slice', 'sample start'])[df.drop(columns = ['song slice', 'sample start']) != '-'].describe()"
   ]
  },
  {
   "cell_type": "code",
   "execution_count": null,
   "metadata": {},
   "outputs": [],
   "source": [
    "mat.random_alignment_checker(['BD', 'SD', 'CC'], 14)"
   ]
  },
  {
   "cell_type": "code",
   "execution_count": null,
   "metadata": {
    "scrolled": false
   },
   "outputs": [],
   "source": [
    "librosa.display.specshow(S[:,:,0], sr=44100, x_axis='time', y_axis = 'mel')"
   ]
  },
  {
   "cell_type": "markdown",
   "metadata": {},
   "source": [
    "### FullSet Testing"
   ]
  },
  {
   "cell_type": "code",
   "execution_count": null,
   "metadata": {},
   "outputs": [],
   "source": [
    "def play(samples, sr=44100):\n",
    "    '''\n",
    "    Helper function just so I can type play(samples) to get the song output\n",
    "    '''\n",
    "    return ipd.Audio(samples, rate = sr)"
   ]
  },
  {
   "cell_type": "code",
   "execution_count": null,
   "metadata": {
    "scrolled": true
   },
   "outputs": [],
   "source": [
    "FullSet = create_FullSet_df(SONGS_PATH)\n",
    "FullSet_clean = clean_labels(FullSet)\n",
    "MusicAlignedTab.labels_summary(FullSet_clean)\n",
    "FullSet_collapse = collapse_class(FullSet_clean, keep_dynamics = False, keep_bells = False, keep_toms_separate = False, hihat_classes=1, cymbal_classes=1)\n",
    "MusicAlignedTab.labels_summary(FullSet_collapse)\n",
    "FullSet_encoded = one_hot_encode(FullSet_collapse)"
   ]
  },
  {
   "cell_type": "code",
   "execution_count": null,
   "metadata": {
    "scrolled": false
   },
   "outputs": [],
   "source": [
    "tset = Dataset('train', FullSet_encoded)\n",
    "vset = Dataset('val', FullSet_encoded)"
   ]
  },
  {
   "cell_type": "code",
   "execution_count": null,
   "metadata": {},
   "outputs": [],
   "source": [
    "song_idx = 1"
   ]
  },
  {
   "cell_type": "code",
   "execution_count": null,
   "metadata": {},
   "outputs": [],
   "source": [
    "%%time\n",
    "song_df = tset.subset_df.loc[tset.song_list[song_idx]].copy()\n",
    "song = np.vstack(song_df['song slice'].to_numpy()).T   # stacks the song slices back into a single numpy array of shape (channels, samples)\n",
    "mono_song = lb.core.to_mono(song)\n",
    "channels = [mono_song]              # channels is a list of either [mono_song] or [mono, L_song, R_song]\n",
    "if INCLUDE_LR_CHANNELS:             # appending the LR channels to the channels variable\n",
    "    channels.append(song[0,:])\n",
    "    channels.append(song[1,:])\n",
    "aug_channels = tset.augment_audio_cp(channels, tset.aug_comp, sr=SAMPLE_RATE)"
   ]
  },
  {
   "cell_type": "code",
   "execution_count": null,
   "metadata": {},
   "outputs": [],
   "source": [
    "numpysave_fp = 'C:/Users/Thomas/Python Projects/Drum-Tabber-Support-Data/Experimental/'"
   ]
  },
  {
   "cell_type": "code",
   "execution_count": null,
   "metadata": {},
   "outputs": [],
   "source": [
    "fy_spec = np.load(numpysave_fp+'fy_spec.npy')\n",
    "fy_tar = np.load(numpysave_fp+'fy_tar.npy')\n",
    "mb_spec = np.load(numpysave_fp+'mb_spec.npy')\n",
    "mb_tar = np.load(numpysave_fp+'mb_tar.npy')"
   ]
  },
  {
   "cell_type": "code",
   "execution_count": null,
   "metadata": {
    "scrolled": true
   },
   "outputs": [],
   "source": [
    "m,n = 20,7\n",
    "prob = 0.05\n",
    "rand_labels = (np.random.rand(m,n) <= prob).astype(np.int)\n",
    "rand_logits = np.random.rand(m,n)\n",
    "weigh =  np.array([prob for _ in range (n)], dtype=np.float32)\n",
    "print(rand_labels)\n",
    "print(rand_logits)\n",
    "print(weigh, weigh.shape)\n",
    "\n",
    "\n",
    "losses = tf.nn.weighted_cross_entropy_with_logits(labels = rand_labels.astype(np.float32),\n",
    "                                                logits = tf.dtypes.cast(rand_logits, np.float32),\n",
    "                                                 pos_weight = weigh)\n",
    "print(losses)"
   ]
  },
  {
   "cell_type": "markdown",
   "metadata": {},
   "source": [
    "## Testing of the train.py"
   ]
  },
  {
   "cell_type": "code",
   "execution_count": 1,
   "metadata": {
    "scrolled": true
   },
   "outputs": [
    {
     "name": "stderr",
     "output_type": "stream",
     "text": [
      "C:\\ProgramData\\Anaconda3\\lib\\site-packages\\librosa\\core\\audio.py:161: UserWarning: PySoundFile failed. Trying audioread instead.\n",
      "  warnings.warn('PySoundFile failed. Trying audioread instead.')\n"
     ]
    },
    {
     "name": "stdout",
     "output_type": "stream",
     "text": [
      "...Concatenating all music-aligned dataframes\n",
      "...Replacing NaNs with - for output\n",
      "---dataframe.describe() without blank_chars---\n",
      "           tk     BD    SD    HH    RD    CC    C2   LT   MT   HT  CH   C3  SC\n",
      "count   49917  11829  7624  5388  1718  3279  2334  994  391  298  97  302  26\n",
      "unique      9      3     8     9     5     4     4    5    4    4   3    3   2\n",
      "top         +      o     o     x     x     X     X    o    o    o   X    X   X\n",
      "freq    12461  11356  6527  2905  1090  2016  1891  888  315  249  81  264  20\n",
      "\n",
      "---Unique values and frequencies by column name---\n",
      "        +      e      a     1     2     3     4   t   s\n",
      "tk  12461  12459  12446  3206  3202  3199  2867  47  30\n",
      "\n",
      "        -      o    O   d\n",
      "BD  38088  11356  430  43\n",
      "\n",
      "        -     o    g    O    f   d   r   x  0\n",
      "SD  42293  6527  527  271  136  75  73  14  1\n",
      "\n",
      "        -     x     X    o   O   s   g  S  d  w\n",
      "HH  44529  2905  2186  195  35  32  26  5  2  2\n",
      "\n",
      "        -     x    X    b   g   f\n",
      "RD  48199  1090  476  113  25  14\n",
      "\n",
      "        -     X     x  b  #\n",
      "CC  46638  2016  1252  7  4\n",
      "\n",
      "        -     X    x  #  b\n",
      "C2  47583  1891  439  3  1\n",
      "\n",
      "        -    o   O   D   d   f\n",
      "LT  48923  888  47  31  16  12\n",
      "\n",
      "        -    o   O   d  f\n",
      "MT  49526  315  57  10  9\n",
      "\n",
      "        -    o   O  f  d\n",
      "HT  49619  249  36  8  5\n",
      "\n",
      "        -   X   x  g\n",
      "CH  49820  81  14  2\n",
      "\n",
      "        -    X   x   #\n",
      "C3  49615  264  26  12\n",
      "\n",
      "        -   X  b\n",
      "SC  49891  20  6\n",
      "\n",
      "---dataframe.describe() without blank_chars---\n",
      "           tk     BD    SD    HH    RD    CC    C2   LT   MT   HT  CH   C3  SC\n",
      "count   49917  11829  7551  5351  1718  3275  2331  994  391  298  97  290  26\n",
      "unique      9      2     3     4     4     3     3    2    2    2   3    2   2\n",
      "top         +      o     o     x     x     X     X    o    o    o   X    X   X\n",
      "freq    12461  11399  6752  2907  1104  2016  1891  916  334  262  81  264  20\n",
      "\n",
      "---Unique values and frequencies by column name---\n",
      "        +      e      a     1     2     3     4   t   s\n",
      "tk  12461  12459  12446  3206  3202  3199  2867  47  30\n",
      "\n",
      "        -      o    O\n",
      "BD  38088  11399  430\n",
      "\n",
      "        -     o    g    O\n",
      "SD  42366  6752  527  272\n",
      "\n",
      "        -     x     X    o   g\n",
      "HH  44566  2907  2188  230  26\n",
      "\n",
      "        -     x    X    b   g\n",
      "RD  48199  1104  476  113  25\n",
      "\n",
      "        -     X     x  b\n",
      "CC  46642  2016  1252  7\n",
      "\n",
      "        -     X    x  b\n",
      "C2  47586  1891  439  1\n",
      "\n",
      "        -    o   O\n",
      "LT  48923  916  78\n",
      "\n",
      "        -    o   O\n",
      "MT  49526  334  57\n",
      "\n",
      "        -    o   O\n",
      "HT  49619  262  36\n",
      "\n",
      "        -   X   x  g\n",
      "CH  49820  81  14  2\n",
      "\n",
      "        -    X   x\n",
      "C3  49627  264  26\n",
      "\n",
      "        -   X  b\n",
      "SC  49891  20  6\n",
      "\n"
     ]
    },
    {
     "name": "stderr",
     "output_type": "stream",
     "text": [
      "C:\\ProgramData\\Anaconda3\\lib\\site-packages\\pandas\\core\\missing.py:49: FutureWarning: elementwise comparison failed; returning scalar instead, but in the future will perform elementwise comparison\n",
      "  mask = arr == x\n"
     ]
    },
    {
     "name": "stdout",
     "output_type": "stream",
     "text": [
      "---dataframe.describe() without blank_chars---\n",
      "           tk     BD    SD    HH    at    ac\n",
      "count   12474  11829  7024  2907  1540  9801\n",
      "unique      2      1     1     1     1     1\n",
      "top         c      o     o     x     o     x\n",
      "freq     9268  11829  7024  2907  1540  9801\n",
      "\n",
      "---Unique values and frequencies by column name---\n",
      "        -     c     C\n",
      "tk  37443  9268  3206\n",
      "\n",
      "        -      o\n",
      "BD  38088  11829\n",
      "\n",
      "        -     o\n",
      "SD  42893  7024\n",
      "\n",
      "        -     x\n",
      "HH  47010  2907\n",
      "\n",
      "        -     o\n",
      "at  48377  1540\n",
      "\n",
      "        -     x\n",
      "ac  40116  9801\n",
      "\n",
      "one_hot_encode: col_list before encoding = ['tk', 'BD', 'SD', 'HH', 'at', 'ac']\n",
      "one_hot_encode: col_list after encoding = ['song slice', 'sample start', 'tk_beat', 'tk_downbeat', 'BD_o', 'SD_o', 'HH_x', 'at_o', 'ac_x']\n",
      "train.py main(): FullSet_encoded created!\n",
      "train.py main():  [0.04384568 0.01128517 0.04164818 0.02462942 0.0103163  0.0054416\n",
      " 0.03448688]\n",
      "train.py main(): drum_tabber model created!\n",
      "Model: \"model\"\n",
      "_________________________________________________________________\n",
      "Layer (type)                 Output Shape              Param #   \n",
      "=================================================================\n",
      "input_1 (InputLayer)         [(None, 50, 27, 1)]       0         \n",
      "_________________________________________________________________\n",
      "conv2d (Conv2D)              (None, 50, 27, 32)        288       \n",
      "_________________________________________________________________\n",
      "batch_normalization (BatchNo (None, 50, 27, 32)        128       \n",
      "_________________________________________________________________\n",
      "re_lu (ReLU)                 (None, 50, 27, 32)        0         \n",
      "_________________________________________________________________\n",
      "dropout (Dropout)            (None, 50, 27, 32)        0         \n",
      "_________________________________________________________________\n",
      "max_pooling2d (MaxPooling2D) (None, 10, 6, 32)         0         \n",
      "_________________________________________________________________\n",
      "conv2d_1 (Conv2D)            (None, 10, 6, 128)        36864     \n",
      "_________________________________________________________________\n",
      "batch_normalization_1 (Batch (None, 10, 6, 128)        512       \n",
      "_________________________________________________________________\n",
      "re_lu_1 (ReLU)               (None, 10, 6, 128)        0         \n",
      "_________________________________________________________________\n",
      "dropout_1 (Dropout)          (None, 10, 6, 128)        0         \n",
      "_________________________________________________________________\n",
      "max_pooling2d_1 (MaxPooling2 (None, 4, 2, 128)         0         \n",
      "_________________________________________________________________\n",
      "flatten (Flatten)            (None, 1024)              0         \n",
      "_________________________________________________________________\n",
      "dense (Dense)                (None, 512)               524800    \n",
      "_________________________________________________________________\n",
      "batch_normalization_2 (Batch (None, 512)               2048      \n",
      "_________________________________________________________________\n",
      "dense_1 (Dense)              (None, 7)                 3591      \n",
      "=================================================================\n",
      "Total params: 568,231\n",
      "Trainable params: 566,887\n",
      "Non-trainable params: 1,344\n",
      "_________________________________________________________________\n",
      "train.py main():  None\n",
      "Starting Epoch 1/2\n",
      "Epoch: 1 Song  1/23, lr:0.000100, song_loss:1.452420\n",
      "Epoch: 1 Song  2/23, lr:0.000100, song_loss:1.353916\n",
      "Epoch: 1 Song  3/23, lr:0.000099, song_loss:1.169582\n",
      "Epoch: 1 Song  4/23, lr:0.000098, song_loss:1.294086\n",
      "Epoch: 1 Song  5/23, lr:0.000097, song_loss:1.229054\n",
      "Epoch: 1 Song  6/23, lr:0.000096, song_loss:1.216738\n",
      "Epoch: 1 Song  7/23, lr:0.000094, song_loss:1.425482\n",
      "Epoch: 1 Song  8/23, lr:0.000093, song_loss:1.149720\n",
      "Epoch: 1 Song  9/23, lr:0.000091, song_loss:1.274789\n",
      "Epoch: 1 Song 10/23, lr:0.000089, song_loss:1.155136\n",
      "Epoch: 1 Song 11/23, lr:0.000087, song_loss:1.135865\n",
      "Epoch: 1 Song 12/23, lr:0.000084, song_loss:1.096083\n",
      "Epoch: 1 Song 13/23, lr:0.000082, song_loss:1.277714\n",
      "Epoch: 1 Song 14/23, lr:0.000079, song_loss:1.269312\n",
      "Epoch: 1 Song 15/23, lr:0.000076, song_loss:1.181865\n",
      "Epoch: 1 Song 16/23, lr:0.000073, song_loss:1.057746\n",
      "Epoch: 1 Song 17/23, lr:0.000070, song_loss:1.526075\n",
      "Epoch: 1 Song 18/23, lr:0.000067, song_loss:1.191899\n",
      "Epoch: 1 Song 19/23, lr:0.000064, song_loss:1.209303\n",
      "Epoch: 1 Song 20/23, lr:0.000061, song_loss:1.026943\n",
      "Epoch: 1 Song 21/23, lr:0.000057, song_loss:1.301196\n",
      "Epoch: 1 Song 22/23, lr:0.000054, song_loss:1.037291\n",
      "Epoch: 1 Song 23/23, lr:0.000050, song_loss:1.321849\n",
      "\n",
      "\n",
      "Epoch:  1 val_loss:1.185007 \n",
      "\n",
      "\n",
      "Starting Epoch 2/2\n",
      "Epoch: 2 Song  1/23, lr:0.000047, song_loss:1.231539\n",
      "Epoch: 2 Song  2/23, lr:0.000044, song_loss:1.140195\n",
      "Epoch: 2 Song  3/23, lr:0.000040, song_loss:1.109661\n",
      "Epoch: 2 Song  4/23, lr:0.000037, song_loss:1.010815\n",
      "Epoch: 2 Song  5/23, lr:0.000034, song_loss:1.182853\n",
      "Epoch: 2 Song  6/23, lr:0.000031, song_loss:1.131754\n",
      "Epoch: 2 Song  7/23, lr:0.000028, song_loss:1.541672\n",
      "Epoch: 2 Song  8/23, lr:0.000025, song_loss:1.393210\n",
      "Epoch: 2 Song  9/23, lr:0.000022, song_loss:1.009696\n",
      "Epoch: 2 Song 10/23, lr:0.000019, song_loss:1.074038\n",
      "Epoch: 2 Song 11/23, lr:0.000017, song_loss:1.274744\n",
      "Epoch: 2 Song 12/23, lr:0.000014, song_loss:1.213091\n",
      "Epoch: 2 Song 13/23, lr:0.000012, song_loss:1.290679\n",
      "Epoch: 2 Song 14/23, lr:0.000010, song_loss:1.152745\n",
      "Epoch: 2 Song 15/23, lr:0.000008, song_loss:1.118579\n",
      "Epoch: 2 Song 16/23, lr:0.000007, song_loss:1.312656\n",
      "Epoch: 2 Song 17/23, lr:0.000005, song_loss:1.049342\n",
      "Epoch: 2 Song 18/23, lr:0.000004, song_loss:1.227838\n",
      "Epoch: 2 Song 19/23, lr:0.000003, song_loss:1.120661\n",
      "Epoch: 2 Song 20/23, lr:0.000002, song_loss:1.387911\n",
      "Epoch: 2 Song 21/23, lr:0.000001, song_loss:1.167026\n",
      "Epoch: 2 Song 22/23, lr:0.000001, song_loss:1.224175\n",
      "Epoch: 2 Song 23/23, lr:0.000001, song_loss:1.014926\n",
      "\n",
      "\n",
      "Epoch:  2 val_loss:1.154812 \n",
      "\n",
      "\n",
      "Congrats on making it through all training epochs!\n",
      "Saving the current drum_tabber model in memory and configs_dict to storage\n",
      "WARNING:tensorflow:From C:\\ProgramData\\Anaconda3\\lib\\site-packages\\tensorflow_core\\python\\ops\\resource_variable_ops.py:1781: calling BaseResourceVariable.__init__ (from tensorflow.python.ops.resource_variable_ops) with constraint is deprecated and will be removed in a future version.\n",
      "Instructions for updating:\n",
      "If using Keras pass *_constraint arguments to layers.\n",
      "INFO:tensorflow:Assets written to: C:/Users/Thomas/Python Projects/Drum-Tabber/models/saved_models\\Context-CNN-E2-VL1_15481\\assets\n"
     ]
    }
   ],
   "source": [
    "from train import *\n",
    "main()"
   ]
  },
  {
   "cell_type": "markdown",
   "metadata": {},
   "source": [
    "### Loading back in a saved model, configs_dict, and sample song"
   ]
  },
  {
   "cell_type": "code",
   "execution_count": 36,
   "metadata": {},
   "outputs": [
    {
     "name": "stdout",
     "output_type": "stream",
     "text": [
      "{'class_names_dict': {'0': 'tk_beat', '1': 'tk_downbeat', '2': 'BD_o', '3': 'SD_o', '4': 'HH_x', '5': 'at_o', '6': 'ac_x'}, 'num_classes': 7, 'num_features': 50, 'num_channels': 1, 'n_mels': 50, 'model_type': 'Context-CNN', 'window_size': 2048, 'hop_size': 441, 'shift_to_db': True, 'n_context_pre': 13, 'n_context_post': 13, 'include_fo_differential': False, 'positive_window_fraction': 0.3, 'negative_window_fraction': 0.1, 'classification_dict': {'clean_date': True, 'keep_dynamics': False, 'keep_bells': False, 'keep_toms_seperate': False, 'hihat_classes': 1, 'cymbal_classes': 1}, 'month_date': '-Nov-11'}\n"
     ]
    }
   ],
   "source": [
    "# load a model back in \n",
    "model_to_load_name = 'Context-CNN-E2-VL1_15481'\n",
    "loaded_model, loaded_configs = load_drum_tabber_model(model_to_load_name, SAVED_MODELS_PATH)\n",
    "print(loaded_configs)"
   ]
  },
  {
   "cell_type": "code",
   "execution_count": 90,
   "metadata": {},
   "outputs": [
    {
     "name": "stderr",
     "output_type": "stream",
     "text": [
      "C:\\ProgramData\\Anaconda3\\lib\\site-packages\\librosa\\core\\audio.py:161: UserWarning: PySoundFile failed. Trying audioread instead.\n",
      "  warnings.warn('PySoundFile failed. Trying audioread instead.')\n"
     ]
    },
    {
     "name": "stdout",
     "output_type": "stream",
     "text": [
      "Number of samples in song is 10253999\n",
      "spectrogram shape is (50, 23248)\n"
     ]
    }
   ],
   "source": [
    "# load sample song and make spectrogram\n",
    "song_to_test = 'four_years'\n",
    "samp_song, sr_song = lb.core.load(os.path.join(SONGS_PATH,song_to_test,song_to_test+'.mp3'), sr=None, mono=True)\n",
    "print(f'Number of samples in song is {samp_song.shape[0]}')\n",
    "spectro = lb.feature.melspectrogram(np.asfortranarray(samp_song), sr = sr_song, n_fft=loaded_configs['window_size'], hop_length = loaded_configs['hop_size'], center = False, n_mels = loaded_configs['n_mels'])\n",
    "if loaded_configs['shift_to_db']:\n",
    "    spectro = lb.power_to_db(spectro, ref = np.max)\n",
    "spectro_norm = (spectro - spectro.mean())/spectro.std()\n",
    "spectrogram = spectro_norm.copy()\n",
    "n_features, n_windows = spectrogram.shape\n",
    "print(f'spectrogram shape is {spectrogram.shape}')\n",
    "if loaded_configs['model_type'] == 'Context-CNN':\n",
    "\n",
    "    pre_context, post_context = loaded_configs['n_context_pre'], loaded_configs['n_context_post']\n",
    "    input_width = pre_context + 1 + post_context\n",
    "    min_value = np.min(spectrogram)\n",
    "\n",
    "    # assign into this np.array filled with the min values of the spectrogram (silence)\n",
    "    input_array = np.full(shape = (n_windows, n_features, input_width), fill_value = min_value)\n",
    "\n",
    "    for idx in range(n_windows):\n",
    "        if idx - pre_context < 0:    # in a window where you would slice before the beginning\n",
    "            start = pre_context-idx\n",
    "            input_array[idx, :, start:] = spectrogram[:, 0:idx+post_context+1]\n",
    "        elif idx + post_context+1 > n_windows: # in a window where you would slice past the end\n",
    "            end = post_context+1 - (n_windows - idx)\n",
    "            input_array[idx, :, :input_width-end] = spectrogram[:, idx-pre_context: n_windows ]\n",
    "        else:    # in a \"normal\" middle window where you slice into the spectrogram normally\n",
    "            input_array[idx, :,:] = spectrogram[:, idx-pre_context : idx+post_context+1]"
   ]
  },
  {
   "cell_type": "code",
   "execution_count": 91,
   "metadata": {},
   "outputs": [
    {
     "name": "stdout",
     "output_type": "stream",
     "text": [
      "Wall time: 2.52 s\n",
      "(2048, 7)\n"
     ]
    }
   ],
   "source": [
    "# making predictions on the sample song\n",
    "start_ind = 0\n",
    "%time predictions = loaded_model(np.expand_dims(input_array,axis=-1)[start_ind:start_ind+2048,:,:,:], training=False)\n",
    "print(predictions.shape)"
   ]
  },
  {
   "cell_type": "code",
   "execution_count": 97,
   "metadata": {},
   "outputs": [
    {
     "name": "stdout",
     "output_type": "stream",
     "text": [
      "[7.1514511e-01 3.2902628e-02 1.2058473e-01 ... 1.1873245e-04 8.2254410e-05\n",
      " 1.7678738e-04]\n"
     ]
    },
    {
     "data": {
      "image/png": "[encoded data removed]",
      "text/plain": [
       "<Figure size 1440x720 with 1 Axes>"
      ]
     },
     "metadata": {
      "needs_background": "light"
     },
     "output_type": "display_data"
    },
    {
     "data": {
      "image/png": "[encoded data removed]",
      "text/plain": [
       "<Figure size 1440x720 with 1 Axes>"
      ]
     },
     "metadata": {
      "needs_background": "light"
     },
     "output_type": "display_data"
    }
   ],
   "source": [
    "idx = 6\n",
    "plt.rcParams[\"figure.figsize\"]=20,10\n",
    "print(predictions[:,idx].numpy())\n",
    "_ = plt.hist(predictions[:,idx].numpy().flatten(), bins='auto')\n",
    "plt.show()\n",
    "_ = plt.plot(predictions[0:800,idx].numpy())"
   ]
  },
  {
   "cell_type": "code",
   "execution_count": 16,
   "metadata": {
    "scrolled": false
   },
   "outputs": [
    {
     "data": {
      "image/png": "[encoded data removed]",
      "text/plain": [
       "<Figure size 432x288 with 1 Axes>"
      ]
     },
     "metadata": {
      "needs_background": "light"
     },
     "output_type": "display_data"
    }
   ],
   "source": [
    "_ = plt.hist(spectrogram.flatten(), bins='auto')\n",
    "plt.show()"
   ]
  },
  {
   "cell_type": "code",
   "execution_count": null,
   "metadata": {},
   "outputs": [],
   "source": [
    "plt.hist(lb.feature.delta(data = normed_fy, width=9, order=1, axis=-1).flatten(), bins='auto')"
   ]
  },
  {
   "cell_type": "code",
   "execution_count": null,
   "metadata": {
    "scrolled": true
   },
   "outputs": [],
   "source": [
    "fy_ftd = lb.feature.delta(data = fy, width=9, order = 1, axis=-1)\n",
    "_ = plt.hist(fy_ftd.flatten(), bins='auto')\n",
    "plt.show()"
   ]
  }
 ],
 "metadata": {
  "kernelspec": {
   "display_name": "Python 3",
   "language": "python",
   "name": "python3"
  },
  "language_info": {
   "codemirror_mode": {
    "name": "ipython",
    "version": 3
   },
   "file_extension": ".py",
   "mimetype": "text/x-python",
   "name": "python",
   "nbconvert_exporter": "python",
   "pygments_lexer": "ipython3",
   "version": "3.7.9"
  }
 },
 "nbformat": 4,
 "nbformat_minor": 4
}
