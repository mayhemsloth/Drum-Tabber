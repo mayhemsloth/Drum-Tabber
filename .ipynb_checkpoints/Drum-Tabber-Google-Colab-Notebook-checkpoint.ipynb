{
 "cells": [
  {
   "cell_type": "markdown",
   "metadata": {},
   "source": [
    "This Jupyter Notebook is meant to be accessed via Google Colab and will be the main method to train models on Google Colab."
   ]
  },
  {
   "cell_type": "code",
   "execution_count": 1,
   "metadata": {},
   "outputs": [],
   "source": [
    "# primary importing code block to utilize the python files\n",
    "import os\n",
    "import json\n",
    "import random\n",
    "import numpy as np\n",
    "import pandas as pd\n",
    "import matplotlib.pyplot as plt\n",
    "from pydub import AudioSegment   # main class from pydub package used to upload mp3 into Python and then get a NumPy array\n",
    "import IPython.display as ipd    # ability to play audio in Jupyter Notebooks if needed\n",
    "import librosa as lb             # loads the librosa package\n",
    "import librosa.display\n",
    "from src.configs import *\n",
    "from src.utils import MusicAlignedTab, create_FullSet_df, one_hot_encode, collapse_class, clean_labels\n",
    "from src.dataset import Dataset"
   ]
  },
  {
   "cell_type": "code",
   "execution_count": null,
   "metadata": {
    "scrolled": true
   },
   "outputs": [],
   "source": [
    "mat = MusicAlignedTab('mookies_last_christmas')\n",
    "df = mat.MAT"
   ]
  },
  {
   "cell_type": "code",
   "execution_count": null,
   "metadata": {},
   "outputs": [],
   "source": [
    "df = clean_labels(df)\n",
    "MusicAlignedTab.labels_summary(df)\n",
    "df = collapse_class(df, keep_dynamics = False, keep_bells = False, keep_toms_separate = False, hihat_classes=1, cymbal_classes=1)\n",
    "MusicAlignedTab.labels_summary(df)"
   ]
  },
  {
   "cell_type": "code",
   "execution_count": null,
   "metadata": {},
   "outputs": [],
   "source": [
    "encode_df = one_hot_encode(df)\n",
    "print(encode_df.columns)\n",
    "encode_df.head()"
   ]
  },
  {
   "cell_type": "code",
   "execution_count": null,
   "metadata": {},
   "outputs": [],
   "source": [
    "%time targets, target_dict = create_targets(S, encode_df)"
   ]
  },
  {
   "cell_type": "code",
   "execution_count": null,
   "metadata": {},
   "outputs": [],
   "source": [
    "for idx, val in target_dict.items():\n",
    "    print(f'total windows that {val} are labeled 1 = {np.count_nonzero(targets[idx,:,0])}')\n",
    "print(f'total windows = {targets.shape[1]}')"
   ]
  },
  {
   "cell_type": "code",
   "execution_count": null,
   "metadata": {},
   "outputs": [],
   "source": [
    "fig = plt.figure(figsize = (10,10))\n",
    "ax = fig.add_subplot()\n",
    "plt.imshow(targets[:,:,1])\n",
    "plt.show()"
   ]
  },
  {
   "cell_type": "code",
   "execution_count": null,
   "metadata": {},
   "outputs": [],
   "source": [
    "MusicAlignedTab.labels_summary(encode_df)"
   ]
  },
  {
   "cell_type": "code",
   "execution_count": null,
   "metadata": {},
   "outputs": [],
   "source": [
    "targets = np.zeros((7, 10, 3), dtype=int)\n",
    "print(targets.shape)\n",
    "targets[:, 0, :]"
   ]
  },
  {
   "cell_type": "code",
   "execution_count": null,
   "metadata": {},
   "outputs": [],
   "source": [
    "df.drop(columns = ['song slice', 'sample start'])[df.drop(columns = ['song slice', 'sample start']) != '-'].describe()"
   ]
  },
  {
   "cell_type": "code",
   "execution_count": null,
   "metadata": {},
   "outputs": [],
   "source": [
    "mat.random_alignment_checker(['BD', 'SD', 'CC'], 14)"
   ]
  },
  {
   "cell_type": "code",
   "execution_count": null,
   "metadata": {
    "scrolled": false
   },
   "outputs": [],
   "source": [
    "librosa.display.specshow(S[:,:,0], sr=44100, x_axis='time', y_axis = 'mel')"
   ]
  },
  {
   "cell_type": "markdown",
   "metadata": {},
   "source": [
    "### FullSet Testing"
   ]
  },
  {
   "cell_type": "code",
   "execution_count": 2,
   "metadata": {},
   "outputs": [],
   "source": [
    "def play(samples, sr=44100):\n",
    "    '''\n",
    "    Helper function just so I can type play(samples) to get the song output\n",
    "    '''\n",
    "    return ipd.Audio(samples, rate = sr)"
   ]
  },
  {
   "cell_type": "code",
   "execution_count": 3,
   "metadata": {
    "scrolled": true
   },
   "outputs": [
    {
     "name": "stdout",
     "output_type": "stream",
     "text": [
      "subdirs = ['C:/Users/Thomas/Python Projects/Drum-Tabber-Support-Data/Songs\\\\ancient_tombs', 'C:/Users/Thomas/Python Projects/Drum-Tabber-Support-Data/Songs\\\\best_of_me', 'C:/Users/Thomas/Python Projects/Drum-Tabber-Support-Data/Songs\\\\boulevard_of_broken_dreams', 'C:/Users/Thomas/Python Projects/Drum-Tabber-Support-Data/Songs\\\\cant_be_saved', 'C:/Users/Thomas/Python Projects/Drum-Tabber-Support-Data/Songs\\\\face_down', 'C:/Users/Thomas/Python Projects/Drum-Tabber-Support-Data/Songs\\\\family_tradition', 'C:/Users/Thomas/Python Projects/Drum-Tabber-Support-Data/Songs\\\\fireworks_at_dawn', 'C:/Users/Thomas/Python Projects/Drum-Tabber-Support-Data/Songs\\\\forever_at_last', 'C:/Users/Thomas/Python Projects/Drum-Tabber-Support-Data/Songs\\\\four_years', 'C:/Users/Thomas/Python Projects/Drum-Tabber-Support-Data/Songs\\\\garden_state', 'C:/Users/Thomas/Python Projects/Drum-Tabber-Support-Data/Songs\\\\gunpowder', 'C:/Users/Thomas/Python Projects/Drum-Tabber-Support-Data/Songs\\\\hair_of_the_dog', 'C:/Users/Thomas/Python Projects/Drum-Tabber-Support-Data/Songs\\\\lungs_like_gallows', 'C:/Users/Thomas/Python Projects/Drum-Tabber-Support-Data/Songs\\\\misery_business', 'C:/Users/Thomas/Python Projects/Drum-Tabber-Support-Data/Songs\\\\mookies_last_christmas', 'C:/Users/Thomas/Python Projects/Drum-Tabber-Support-Data/Songs\\\\planning_a_prison_break', 'C:/Users/Thomas/Python Projects/Drum-Tabber-Support-Data/Songs\\\\rollercoaster', 'C:/Users/Thomas/Python Projects/Drum-Tabber-Support-Data/Songs\\\\sow', 'C:/Users/Thomas/Python Projects/Drum-Tabber-Support-Data/Songs\\\\sugar_were_going_down', 'C:/Users/Thomas/Python Projects/Drum-Tabber-Support-Data/Songs\\\\surprise_surprise', 'C:/Users/Thomas/Python Projects/Drum-Tabber-Support-Data/Songs\\\\thats_what_you_get', 'C:/Users/Thomas/Python Projects/Drum-Tabber-Support-Data/Songs\\\\the_dark', 'C:/Users/Thomas/Python Projects/Drum-Tabber-Support-Data/Songs\\\\the_kill', 'C:/Users/Thomas/Python Projects/Drum-Tabber-Support-Data/Songs\\\\the_rapture', 'C:/Users/Thomas/Python Projects/Drum-Tabber-Support-Data/Songs\\\\wolves_at_the_door']\n",
      "list_of_songs = ['ancient_tombs', 'best_of_me', 'boulevard_of_broken_dreams', 'cant_be_saved', 'face_down', 'family_tradition', 'fireworks_at_dawn', 'forever_at_last', 'four_years', 'garden_state', 'gunpowder', 'hair_of_the_dog', 'lungs_like_gallows', 'misery_business', 'mookies_last_christmas', 'planning_a_prison_break', 'rollercoaster', 'sow', 'sugar_were_going_down', 'surprise_surprise', 'thats_what_you_get', 'the_dark', 'the_kill', 'the_rapture', 'wolves_at_the_door']\n"
     ]
    },
    {
     "name": "stderr",
     "output_type": "stream",
     "text": [
      "C:\\ProgramData\\Anaconda3\\lib\\site-packages\\librosa\\core\\audio.py:161: UserWarning: PySoundFile failed. Trying audioread instead.\n",
      "  warnings.warn('PySoundFile failed. Trying audioread instead.')\n"
     ]
    },
    {
     "name": "stdout",
     "output_type": "stream",
     "text": [
      "All the following prints are from combine_tab_and_song function:\n",
      "first drum note row = 0\n",
      "# of song slices post fdn = 3062\n",
      "# of song slices pre fdn = 3\n",
      "Produced number of song slices = 3065\n",
      "Expected number of song slices (should be same for non-triplet songs) = 3068.207528344671\n",
      "tab length = 2882     datatype: <class 'int'>\n",
      "len(song_slices_tab_indexed) = 2882     datatype of object: <class 'list'>\n",
      "song_slices_tab_indexed[0].shape = (3392, 2)     datatype of [0]: <class 'numpy.ndarray'>\n",
      "np.array(song_slices_tab_indexed).shape = (2882,)\n",
      "len(sample_start_list) = 2882\n",
      "All the following prints are from combine_tab_and_song function:\n",
      "first drum note row = 56\n",
      "# of song slices post fdn = 1680\n",
      "# of song slices pre fdn = 162\n",
      "Produced number of song slices = 1842\n",
      "Expected number of song slices (should be same for non-triplet songs) = 1842.9039455782313\n",
      "tab length = 1628     datatype: <class 'int'>\n",
      "len(song_slices_tab_indexed) = 1628     datatype of object: <class 'list'>\n",
      "song_slices_tab_indexed[0].shape = (6182, 2)     datatype of [0]: <class 'numpy.ndarray'>\n",
      "np.array(song_slices_tab_indexed).shape = (1628,)\n",
      "len(sample_start_list) = 1628\n",
      "All the following prints are from combine_tab_and_song function:\n",
      "first drum note row = 96\n",
      "# of song slices post fdn = 1363\n",
      "# of song slices pre fdn = 96\n",
      "Produced number of song slices = 1459\n",
      "Expected number of song slices (should be same for non-triplet songs) = 1460.3222222222223\n",
      "tab length = 1440     datatype: <class 'int'>\n",
      "len(song_slices_tab_indexed) = 1440     datatype of object: <class 'list'>\n",
      "song_slices_tab_indexed[0].shape = (7922, 2)     datatype of [0]: <class 'numpy.ndarray'>\n",
      "np.array(song_slices_tab_indexed).shape = (1440,)\n",
      "len(sample_start_list) = 1440\n",
      "All the following prints are from combine_tab_and_song function:\n",
      "first drum note row = 0\n",
      "# of song slices post fdn = 2122\n",
      "# of song slices pre fdn = 1\n",
      "Produced number of song slices = 2123\n",
      "Expected number of song slices (should be same for non-triplet songs) = 2125.374693877551\n",
      "tab length = 2110     datatype: <class 'int'>\n",
      "len(song_slices_tab_indexed) = 2110     datatype of object: <class 'list'>\n",
      "song_slices_tab_indexed[0].shape = (3891, 2)     datatype of [0]: <class 'numpy.ndarray'>\n",
      "np.array(song_slices_tab_indexed).shape = (2110,)\n",
      "len(sample_start_list) = 2110\n",
      "All the following prints are from combine_tab_and_song function:\n",
      "first drum note row = 0\n",
      "# of song slices post fdn = 2379\n",
      "# of song slices pre fdn = 1\n",
      "Produced number of song slices = 2380\n",
      "Expected number of song slices (should be same for non-triplet songs) = 2380.8\n",
      "tab length = 2310     datatype: <class 'int'>\n",
      "len(song_slices_tab_indexed) = 2310     datatype of object: <class 'list'>\n",
      "song_slices_tab_indexed[0].shape = (3556, 2)     datatype of [0]: <class 'numpy.ndarray'>\n",
      "np.array(song_slices_tab_indexed).shape = (2310,)\n",
      "len(sample_start_list) = 2310\n",
      "All the following prints are from combine_tab_and_song function:\n",
      "first drum note row = 0\n",
      "# of song slices post fdn = 2565\n",
      "# of song slices pre fdn = 64\n",
      "Produced number of song slices = 2629\n",
      "Expected number of song slices (should be same for non-triplet songs) = 2630.453986394558\n",
      "tab length = 2448     datatype: <class 'int'>\n",
      "len(song_slices_tab_indexed) = 2448     datatype of object: <class 'list'>\n",
      "song_slices_tab_indexed[0].shape = (3595, 2)     datatype of [0]: <class 'numpy.ndarray'>\n",
      "np.array(song_slices_tab_indexed).shape = (2448,)\n",
      "len(sample_start_list) = 2448\n",
      "All the following prints are from combine_tab_and_song function:\n",
      "first drum note row = 64\n",
      "# of song slices post fdn = 642\n",
      "# of song slices pre fdn = 67\n",
      "Produced number of song slices = 709\n",
      "Expected number of song slices (should be same for non-triplet songs) = 710.1579319727891\n",
      "tab length = 608     datatype: <class 'int'>\n",
      "len(song_slices_tab_indexed) = 608     datatype of object: <class 'list'>\n",
      "song_slices_tab_indexed[0].shape = (8067, 2)     datatype of [0]: <class 'numpy.ndarray'>\n",
      "np.array(song_slices_tab_indexed).shape = (608,)\n",
      "len(sample_start_list) = 608\n",
      "All the following prints are from combine_tab_and_song function:\n",
      "first drum note row = 0\n",
      "# of song slices post fdn = 1955\n",
      "# of song slices pre fdn = 48\n",
      "Produced number of song slices = 2003\n",
      "Expected number of song slices (should be same for non-triplet songs) = 1984.1449312169311\n",
      "tab length = 1787     datatype: <class 'int'>\n",
      "len(song_slices_tab_indexed) = 1787     datatype of object: <class 'list'>\n",
      "song_slices_tab_indexed[0].shape = (5167, 2)     datatype of [0]: <class 'numpy.ndarray'>\n",
      "np.array(song_slices_tab_indexed).shape = (1787,)\n",
      "len(sample_start_list) = 1787\n",
      "All the following prints are from combine_tab_and_song function:\n",
      "first drum note row = 0\n",
      "# of song slices post fdn = 2179\n",
      "# of song slices pre fdn = 0\n",
      "Produced number of song slices = 2179\n",
      "Expected number of song slices (should be same for non-triplet songs) = 2179.8521904761906\n",
      "tab length = 2134     datatype: <class 'int'>\n",
      "len(song_slices_tab_indexed) = 2134     datatype of object: <class 'list'>\n",
      "song_slices_tab_indexed[0].shape = (5167, 2)     datatype of [0]: <class 'numpy.ndarray'>\n",
      "np.array(song_slices_tab_indexed).shape = (2134,)\n",
      "len(sample_start_list) = 2134\n",
      "All the following prints are from combine_tab_and_song function:\n",
      "first drum note row = 0\n",
      "# of song slices post fdn = 2761\n",
      "# of song slices pre fdn = 1\n",
      "Produced number of song slices = 2762\n",
      "Expected number of song slices (should be same for non-triplet songs) = 2770.494693877551\n",
      "tab length = 2658     datatype: <class 'int'>\n",
      "len(song_slices_tab_indexed) = 2658     datatype of object: <class 'list'>\n",
      "song_slices_tab_indexed[0].shape = (3481, 2)     datatype of [0]: <class 'numpy.ndarray'>\n",
      "np.array(song_slices_tab_indexed).shape = (2658,)\n",
      "len(sample_start_list) = 2658\n",
      "All the following prints are from combine_tab_and_song function:\n",
      "first drum note row = 0\n",
      "# of song slices post fdn = 3381\n",
      "# of song slices pre fdn = 1\n",
      "Produced number of song slices = 3382\n",
      "Expected number of song slices (should be same for non-triplet songs) = 3382.7200000000003\n",
      "tab length = 3150     datatype: <class 'int'>\n",
      "len(song_slices_tab_indexed) = 3150     datatype of object: <class 'list'>\n",
      "song_slices_tab_indexed[0].shape = (4009, 2)     datatype of [0]: <class 'numpy.ndarray'>\n",
      "np.array(song_slices_tab_indexed).shape = (3150,)\n",
      "len(sample_start_list) = 3150\n",
      "All the following prints are from combine_tab_and_song function:\n",
      "first drum note row = 0\n",
      "# of song slices post fdn = 1961\n",
      "# of song slices pre fdn = 64\n",
      "Produced number of song slices = 2025\n",
      "Expected number of song slices (should be same for non-triplet songs) = 2026.1407346938777\n",
      "tab length = 1904     datatype: <class 'int'>\n",
      "len(song_slices_tab_indexed) = 1904     datatype of object: <class 'list'>\n",
      "song_slices_tab_indexed[0].shape = (5011, 2)     datatype of [0]: <class 'numpy.ndarray'>\n",
      "np.array(song_slices_tab_indexed).shape = (1904,)\n",
      "len(sample_start_list) = 1904\n",
      "All the following prints are from combine_tab_and_song function:\n",
      "first drum note row = 0\n",
      "# of song slices post fdn = 1980\n",
      "# of song slices pre fdn = 0\n",
      "Produced number of song slices = 1980\n",
      "Expected number of song slices (should be same for non-triplet songs) = 1983.0630748299318\n",
      "tab length = 1972     datatype: <class 'int'>\n",
      "len(song_slices_tab_indexed) = 1972     datatype of object: <class 'list'>\n",
      "song_slices_tab_indexed[0].shape = (4469, 2)     datatype of [0]: <class 'numpy.ndarray'>\n",
      "np.array(song_slices_tab_indexed).shape = (1972,)\n",
      "len(sample_start_list) = 1972\n",
      "All the following prints are from combine_tab_and_song function:\n",
      "first drum note row = 156\n",
      "# of song slices post fdn = 2279\n",
      "# of song slices pre fdn = 161\n",
      "Produced number of song slices = 2440\n",
      "Expected number of song slices (should be same for non-triplet songs) = 2440.9617414965987\n",
      "tab length = 2400     datatype: <class 'int'>\n",
      "len(song_slices_tab_indexed) = 2400     datatype of object: <class 'list'>\n",
      "song_slices_tab_indexed[0].shape = (3824, 2)     datatype of [0]: <class 'numpy.ndarray'>\n",
      "np.array(song_slices_tab_indexed).shape = (2400,)\n",
      "len(sample_start_list) = 2400\n",
      "All the following prints are from combine_tab_and_song function:\n",
      "first drum note row = 0\n",
      "# of song slices post fdn = 2106\n",
      "# of song slices pre fdn = 4\n",
      "Produced number of song slices = 2110\n",
      "Expected number of song slices (should be same for non-triplet songs) = 2110.8610612244897\n",
      "tab length = 1936     datatype: <class 'int'>\n",
      "len(song_slices_tab_indexed) = 1936     datatype of object: <class 'list'>\n",
      "song_slices_tab_indexed[0].shape = (3445, 2)     datatype of [0]: <class 'numpy.ndarray'>\n",
      "np.array(song_slices_tab_indexed).shape = (1936,)\n",
      "len(sample_start_list) = 1936\n"
     ]
    },
    {
     "name": "stdout",
     "output_type": "stream",
     "text": [
      "All the following prints are from combine_tab_and_song function:\n",
      "first drum note row = 0\n",
      "# of song slices post fdn = 3860\n",
      "# of song slices pre fdn = 0\n",
      "Produced number of song slices = 3860\n",
      "Expected number of song slices (should be same for non-triplet songs) = 3859.859026455026\n",
      "tab length = 3792     datatype: <class 'int'>\n",
      "len(song_slices_tab_indexed) = 3792     datatype of object: <class 'list'>\n",
      "song_slices_tab_indexed[0].shape = (3634, 2)     datatype of [0]: <class 'numpy.ndarray'>\n",
      "np.array(song_slices_tab_indexed).shape = (3792,)\n",
      "len(sample_start_list) = 3792\n",
      "All the following prints are from combine_tab_and_song function:\n",
      "first drum note row = 0\n",
      "# of song slices post fdn = 1863\n",
      "# of song slices pre fdn = 1\n",
      "Produced number of song slices = 1864\n",
      "Expected number of song slices (should be same for non-triplet songs) = 1865.376\n",
      "tab length = 1826     datatype: <class 'int'>\n",
      "len(song_slices_tab_indexed) = 1826     datatype of object: <class 'list'>\n",
      "song_slices_tab_indexed[0].shape = (6125, 2)     datatype of [0]: <class 'numpy.ndarray'>\n",
      "np.array(song_slices_tab_indexed).shape = (1826, 6125, 2)\n",
      "len(sample_start_list) = 1826\n",
      "All the following prints are from combine_tab_and_song function:\n",
      "first drum note row = 384\n",
      "# of song slices post fdn = 1286\n",
      "# of song slices pre fdn = 384\n",
      "Produced number of song slices = 1670\n",
      "Expected number of song slices (should be same for non-triplet songs) = 1664.0691232048375\n",
      "tab length = 1478     datatype: <class 'int'>\n",
      "len(song_slices_tab_indexed) = 1478     datatype of object: <class 'list'>\n",
      "song_slices_tab_indexed[0].shape = (5752, 2)     datatype of [0]: <class 'numpy.ndarray'>\n",
      "np.array(song_slices_tab_indexed).shape = (1478,)\n",
      "len(sample_start_list) = 1478\n",
      "All the following prints are from combine_tab_and_song function:\n",
      "first drum note row = 0\n",
      "# of song slices post fdn = 1238\n",
      "# of song slices pre fdn = 0\n",
      "Produced number of song slices = 1238\n",
      "Expected number of song slices (should be same for non-triplet songs) = 1237.104\n",
      "tab length = 1122     datatype: <class 'int'>\n",
      "len(song_slices_tab_indexed) = 1122     datatype of object: <class 'list'>\n",
      "song_slices_tab_indexed[0].shape = (8166, 2)     datatype of [0]: <class 'numpy.ndarray'>\n",
      "np.array(song_slices_tab_indexed).shape = (1122,)\n",
      "len(sample_start_list) = 1122\n",
      "All the following prints are from combine_tab_and_song function:\n",
      "first drum note row = 0\n",
      "# of song slices post fdn = 2009\n",
      "# of song slices pre fdn = 4\n",
      "Produced number of song slices = 2013\n",
      "Expected number of song slices (should be same for non-triplet songs) = 2013.696\n",
      "tab length = 1872     datatype: <class 'int'>\n",
      "len(song_slices_tab_indexed) = 1872     datatype of object: <class 'list'>\n",
      "song_slices_tab_indexed[0].shape = (5250, 2)     datatype of [0]: <class 'numpy.ndarray'>\n",
      "np.array(song_slices_tab_indexed).shape = (1872, 5250, 2)\n",
      "len(sample_start_list) = 1872\n",
      "All the following prints are from combine_tab_and_song function:\n",
      "first drum note row = 0\n",
      "# of song slices post fdn = 1923\n",
      "# of song slices pre fdn = 2\n",
      "Produced number of song slices = 1925\n",
      "Expected number of song slices (should be same for non-triplet songs) = 1926.6089795918367\n",
      "tab length = 1848     datatype: <class 'int'>\n",
      "len(song_slices_tab_indexed) = 1848     datatype of object: <class 'list'>\n",
      "song_slices_tab_indexed[0].shape = (5049, 2)     datatype of [0]: <class 'numpy.ndarray'>\n",
      "np.array(song_slices_tab_indexed).shape = (1848,)\n",
      "len(sample_start_list) = 1848\n",
      "All the following prints are from combine_tab_and_song function:\n",
      "first drum note row = 128\n",
      "# of song slices post fdn = 2488\n",
      "# of song slices pre fdn = 128\n",
      "Produced number of song slices = 2616\n",
      "Expected number of song slices (should be same for non-triplet songs) = 2616.4244897959184\n",
      "tab length = 2512     datatype: <class 'int'>\n",
      "len(song_slices_tab_indexed) = 2512     datatype of object: <class 'list'>\n",
      "song_slices_tab_indexed[0].shape = (4134, 2)     datatype of [0]: <class 'numpy.ndarray'>\n",
      "np.array(song_slices_tab_indexed).shape = (2512,)\n",
      "len(sample_start_list) = 2512\n",
      "All the following prints are from combine_tab_and_song function:\n",
      "first drum note row = 0\n",
      "# of song slices post fdn = 1374\n",
      "# of song slices pre fdn = 38\n",
      "Produced number of song slices = 1412\n",
      "Expected number of song slices (should be same for non-triplet songs) = 1412.3533333333332\n",
      "tab length = 1284     datatype: <class 'int'>\n",
      "len(song_slices_tab_indexed) = 1284     datatype of object: <class 'list'>\n",
      "song_slices_tab_indexed[0].shape = (7229, 2)     datatype of [0]: <class 'numpy.ndarray'>\n",
      "np.array(song_slices_tab_indexed).shape = (1284,)\n",
      "len(sample_start_list) = 1284\n",
      "All the following prints are from combine_tab_and_song function:\n",
      "first drum note row = 208\n",
      "# of song slices post fdn = 661\n",
      "# of song slices pre fdn = 311\n",
      "Produced number of song slices = 972\n",
      "Expected number of song slices (should be same for non-triplet songs) = 973.0507755102041\n",
      "tab length = 832     datatype: <class 'int'>\n",
      "len(song_slices_tab_indexed) = 832     datatype of object: <class 'list'>\n",
      "song_slices_tab_indexed[0].shape = (5334, 2)     datatype of [0]: <class 'numpy.ndarray'>\n",
      "np.array(song_slices_tab_indexed).shape = (832,)\n",
      "len(sample_start_list) = 832\n",
      "All the following prints are from combine_tab_and_song function:\n",
      "first drum note row = 31\n",
      "# of song slices post fdn = 1960\n",
      "# of song slices pre fdn = 31\n",
      "Produced number of song slices = 1991\n",
      "Expected number of song slices (should be same for non-triplet songs) = 1992.1606530612246\n",
      "tab length = 1984     datatype: <class 'int'>\n",
      "len(song_slices_tab_indexed) = 1984     datatype of object: <class 'list'>\n",
      "song_slices_tab_indexed[0].shape = (4594, 2)     datatype of [0]: <class 'numpy.ndarray'>\n",
      "np.array(song_slices_tab_indexed).shape = (1984,)\n",
      "len(sample_start_list) = 1984\n",
      "...Concatenating all music-aligned dataframes\n",
      "...Replacing NaNs with - for output\n",
      "---dataframe.describe() without blank_chars---\n",
      "           tk     BD    SD    HH    RD    CC    C2   LT   MT   HT  CH   C3  SC\n",
      "count   49917  11829  7624  5388  1718  3279  2334  994  391  298  97  302  26\n",
      "unique      9      3     8     9     5     4     4    5    4    4   3    3   2\n",
      "top         +      o     o     x     x     X     X    o    o    o   X    X   X\n",
      "freq    12461  11356  6527  2905  1090  2016  1891  888  315  249  81  264  20\n",
      "\n",
      "---Unique values and frequencies by column name---\n",
      "        +      e      a     1     2     3     4   t   s\n",
      "tk  12461  12459  12446  3206  3202  3199  2867  47  30\n",
      "\n",
      "        -      o    O   d\n",
      "BD  38088  11356  430  43\n",
      "\n",
      "        -     o    g    O    f   d   r   x  0\n",
      "SD  42293  6527  527  271  136  75  73  14  1\n",
      "\n",
      "        -     x     X    o   O   s   g  S  w  d\n",
      "HH  44529  2905  2186  195  35  32  26  5  2  2\n",
      "\n",
      "        -     x    X    b   g   f\n",
      "RD  48199  1090  476  113  25  14\n",
      "\n",
      "        -     X     x  b  #\n",
      "CC  46638  2016  1252  7  4\n",
      "\n",
      "        -     X    x  #  b\n",
      "C2  47583  1891  439  3  1\n",
      "\n",
      "        -    o   O   D   d   f\n",
      "LT  48923  888  47  31  16  12\n",
      "\n",
      "        -    o   O   d  f\n",
      "MT  49526  315  57  10  9\n",
      "\n",
      "        -    o   O  f  d\n",
      "HT  49619  249  36  8  5\n",
      "\n",
      "        -   X   x  g\n",
      "CH  49820  81  14  2\n",
      "\n",
      "        -    X   x   #\n",
      "C3  49615  264  26  12\n",
      "\n",
      "        -   X  b\n",
      "SC  49891  20  6\n",
      "\n",
      "---dataframe.describe() without blank_chars---\n",
      "           tk     BD    SD    HH    RD    CC    C2   LT   MT   HT  CH   C3  SC\n",
      "count   49917  11829  7551  5351  1718  3275  2331  994  391  298  97  290  26\n",
      "unique      9      2     3     4     4     3     3    2    2    2   3    2   2\n",
      "top         +      o     o     x     x     X     X    o    o    o   X    X   X\n",
      "freq    12461  11399  6752  2907  1104  2016  1891  916  334  262  81  264  20\n",
      "\n",
      "---Unique values and frequencies by column name---\n",
      "        +      e      a     1     2     3     4   t   s\n",
      "tk  12461  12459  12446  3206  3202  3199  2867  47  30\n",
      "\n",
      "        -      o    O\n",
      "BD  38088  11399  430\n",
      "\n",
      "        -     o    g    O\n",
      "SD  42366  6752  527  272\n",
      "\n",
      "        -     x     X    o   g\n",
      "HH  44566  2907  2188  230  26\n",
      "\n",
      "        -     x    X    b   g\n",
      "RD  48199  1104  476  113  25\n",
      "\n",
      "        -     X     x  b\n",
      "CC  46642  2016  1252  7\n",
      "\n",
      "        -     X    x  b\n",
      "C2  47586  1891  439  1\n",
      "\n",
      "        -    o   O\n",
      "LT  48923  916  78\n",
      "\n",
      "        -    o   O\n",
      "MT  49526  334  57\n",
      "\n",
      "        -    o   O\n",
      "HT  49619  262  36\n",
      "\n",
      "        -   X   x  g\n",
      "CH  49820  81  14  2\n",
      "\n",
      "        -    X   x\n",
      "C3  49627  264  26\n",
      "\n",
      "        -   X  b\n",
      "SC  49891  20  6\n",
      "\n"
     ]
    },
    {
     "name": "stderr",
     "output_type": "stream",
     "text": [
      "C:\\ProgramData\\Anaconda3\\lib\\site-packages\\pandas\\core\\missing.py:49: FutureWarning: elementwise comparison failed; returning scalar instead, but in the future will perform elementwise comparison\n",
      "  mask = arr == x\n"
     ]
    },
    {
     "name": "stdout",
     "output_type": "stream",
     "text": [
      "---dataframe.describe() without blank_chars---\n",
      "           tk     BD    SD    HH    at    ac\n",
      "count   12474  11829  7024  2907  1540  9801\n",
      "unique      2      1     1     1     1     1\n",
      "top         c      o     o     x     o     x\n",
      "freq     9268  11829  7024  2907  1540  9801\n",
      "\n",
      "---Unique values and frequencies by column name---\n",
      "        -     c     C\n",
      "tk  37443  9268  3206\n",
      "\n",
      "        -      o\n",
      "BD  38088  11829\n",
      "\n",
      "        -     o\n",
      "SD  42893  7024\n",
      "\n",
      "        -     x\n",
      "HH  47010  2907\n",
      "\n",
      "        -     o\n",
      "at  48377  1540\n",
      "\n",
      "        -     x\n",
      "ac  40116  9801\n",
      "\n",
      "one_hot_encode: col_list before encoding = ['tk', 'BD', 'SD', 'HH', 'at', 'ac']\n",
      "one_hot_encode: col_list after encoding = ['song slice', 'sample start', 'tk_beat', 'tk_downbeat', 'BD_o', 'SD_o', 'HH_x', 'at_o', 'ac_x']\n"
     ]
    }
   ],
   "source": [
    "FullSet = create_FullSet_df(SONGS_PATH)\n",
    "FullSet_clean = clean_labels(FullSet)\n",
    "MusicAlignedTab.labels_summary(FullSet_clean)\n",
    "FullSet_collapse = collapse_class(FullSet_clean, keep_dynamics = False, keep_bells = False, keep_toms_separate = False, hihat_classes=1, cymbal_classes=1)\n",
    "MusicAlignedTab.labels_summary(FullSet_collapse)\n",
    "FullSet_encoded = one_hot_encode(FullSet_collapse)"
   ]
  },
  {
   "cell_type": "code",
   "execution_count": 4,
   "metadata": {
    "scrolled": false
   },
   "outputs": [],
   "source": [
    "tset = Dataset('train', FullSet_encoded)\n",
    "vset = Dataset('val', FullSet_encoded)"
   ]
  },
  {
   "cell_type": "code",
   "execution_count": null,
   "metadata": {},
   "outputs": [],
   "source": [
    "song_idx = 1"
   ]
  },
  {
   "cell_type": "code",
   "execution_count": null,
   "metadata": {},
   "outputs": [],
   "source": [
    "%%time\n",
    "song_df = tset.subset_df.loc[tset.song_list[song_idx]].copy()\n",
    "song = np.vstack(song_df['song slice'].to_numpy()).T   # stacks the song slices back into a single numpy array of shape (channels, samples)\n",
    "mono_song = lb.core.to_mono(song)\n",
    "channels = [mono_song]              # channels is a list of either [mono_song] or [mono, L_song, R_song]\n",
    "if INCLUDE_LR_CHANNELS:             # appending the LR channels to the channels variable\n",
    "    channels.append(song[0,:])\n",
    "    channels.append(song[1,:])\n",
    "aug_channels = tset.augment_audio_cp(channels, tset.aug_comp, sr=SAMPLE_RATE)"
   ]
  },
  {
   "cell_type": "code",
   "execution_count": null,
   "metadata": {
    "scrolled": true
   },
   "outputs": [],
   "source": [
    "play(aug_channels[0])"
   ]
  },
  {
   "cell_type": "code",
   "execution_count": null,
   "metadata": {
    "scrolled": false
   },
   "outputs": [],
   "source": [
    "INCLUDE_LR_CHANNELS = False\n",
    "%time spectrogram, target, target_dict = tset.preprocess_song(tset.song_list[7])"
   ]
  },
  {
   "cell_type": "code",
   "execution_count": null,
   "metadata": {},
   "outputs": [],
   "source": [
    "print(spectrogram.shape)\n",
    "print(target.shape)\n",
    "print(target_dict)\n",
    "tset.song_list[7]"
   ]
  },
  {
   "cell_type": "code",
   "execution_count": null,
   "metadata": {
    "scrolled": true
   },
   "outputs": [],
   "source": [
    "vset.subset_df"
   ]
  },
  {
   "cell_type": "code",
   "execution_count": null,
   "metadata": {},
   "outputs": [],
   "source": [
    "labels = np.zeros((5,5))"
   ]
  },
  {
   "cell_type": "code",
   "execution_count": null,
   "metadata": {},
   "outputs": [],
   "source": [
    "labels_df = vset.subset_df.loc['four_years'].drop(columns = ['sample start', 'song slice']).copy()"
   ]
  },
  {
   "cell_type": "code",
   "execution_count": null,
   "metadata": {},
   "outputs": [],
   "source": [
    "labels_df"
   ]
  },
  {
   "cell_type": "code",
   "execution_count": null,
   "metadata": {},
   "outputs": [],
   "source": [
    "np.stack([labels_df.loc[0].to_numpy() for _ in range(3)], axis = -1).shape"
   ]
  },
  {
   "cell_type": "code",
   "execution_count": null,
   "metadata": {},
   "outputs": [],
   "source": [
    "targets = np.zeros((7, 15,3))"
   ]
  },
  {
   "cell_type": "code",
   "execution_count": 10,
   "metadata": {
    "scrolled": true
   },
   "outputs": [
    {
     "name": "stdout",
     "output_type": "stream",
     "text": [
      "four_years\n",
      "create_spectrogram: spectro.shape = (150, 25001)\n",
      "create_spectrogram: spectro.shape = (150, 25001)\n",
      "create_spectrogram: spectro.shape = (150, 25001)\n",
      "create_spectrogram: spectrogram.shape after ftd = (150, 25001, 3)\n",
      "shape of target = (7, 25001, 3)\n",
      "misery_business\n",
      "create_spectrogram: spectro.shape = (150, 20804)\n",
      "create_spectrogram: spectro.shape = (150, 20804)\n",
      "create_spectrogram: spectro.shape = (150, 20804)\n",
      "create_spectrogram: spectrogram.shape after ftd = (150, 20804, 3)\n",
      "shape of target = (7, 20804, 3)\n",
      "Wall time: 14.5 s\n"
     ]
    }
   ],
   "source": [
    "%%time\n",
    "save_spec = []\n",
    "save_tar = []\n",
    "for spec, tar in vset:\n",
    "    save_spec.append(spec)\n",
    "    save_tar.append(tar)\n",
    "    print(f'shape of target = {tar.shape}')"
   ]
  },
  {
   "cell_type": "code",
   "execution_count": 13,
   "metadata": {},
   "outputs": [],
   "source": [
    "fy_spec = save_spec[0]\n",
    "mb_spec = save_spec[1]\n",
    "fy_tar = save_tar[0]\n",
    "mb_tar = save_tar[1]"
   ]
  },
  {
   "cell_type": "code",
   "execution_count": 23,
   "metadata": {},
   "outputs": [],
   "source": [
    "numpysave_fp = 'C:/Users/Thomas/Python Projects/Drum-Tabber-Support-Data/Experimental/'"
   ]
  },
  {
   "cell_type": "code",
   "execution_count": 24,
   "metadata": {},
   "outputs": [],
   "source": [
    "np.save(numpysave_fp + 'fy_spec', fy_spec)\n",
    "np.save(numpysave_fp + 'fy_tar', fy_tar)\n",
    "np.save(numpysave_fp + 'm_spec', mb_spec)\n",
    "np.save(numpysave_fp + 'mb_tar', mb_tar)"
   ]
  },
  {
   "cell_type": "code",
   "execution_count": 17,
   "metadata": {},
   "outputs": [],
   "source": [
    "np.savez(numpysave_fp + 'zip_uncomp', fy_spec, fy_tar, mb_spec, mb_tar)"
   ]
  },
  {
   "cell_type": "code",
   "execution_count": 18,
   "metadata": {},
   "outputs": [],
   "source": [
    "np.savez_compressed(numpysave_fp + 'zip_comp', fy_spec, fy_tar, mb_spec, mb_tar)"
   ]
  },
  {
   "cell_type": "code",
   "execution_count": 21,
   "metadata": {},
   "outputs": [
    {
     "data": {
      "text/plain": [
       "(150, 25001, 3)"
      ]
     },
     "execution_count": 21,
     "metadata": {},
     "output_type": "execute_result"
    }
   ],
   "source": [
    "fy_spec.shape"
   ]
  },
  {
   "cell_type": "code",
   "execution_count": 22,
   "metadata": {},
   "outputs": [
    {
     "data": {
      "text/plain": [
       "(7, 25001, 3)"
      ]
     },
     "execution_count": 22,
     "metadata": {},
     "output_type": "execute_result"
    }
   ],
   "source": [
    "fy_tar.shape"
   ]
  },
  {
   "cell_type": "code",
   "execution_count": 25,
   "metadata": {},
   "outputs": [],
   "source": [
    "from datetime import date"
   ]
  },
  {
   "cell_type": "code",
   "execution_count": 26,
   "metadata": {},
   "outputs": [
    {
     "data": {
      "text/plain": [
       "datetime.date(2020, 10, 27)"
      ]
     },
     "execution_count": 26,
     "metadata": {},
     "output_type": "execute_result"
    }
   ],
   "source": [
    "date.today()"
   ]
  },
  {
   "cell_type": "code",
   "execution_count": 29,
   "metadata": {},
   "outputs": [
    {
     "data": {
      "text/plain": [
       "'-Oct-27'"
      ]
     },
     "execution_count": 29,
     "metadata": {},
     "output_type": "execute_result"
    }
   ],
   "source": [
    "date.today().strftime(\"-%b-%d\")"
   ]
  },
  {
   "cell_type": "code",
   "execution_count": 30,
   "metadata": {},
   "outputs": [],
   "source": [
    "ints = np.array([1,2,3,4,5,6,7])"
   ]
  },
  {
   "cell_type": "code",
   "execution_count": 31,
   "metadata": {},
   "outputs": [
    {
     "name": "stdout",
     "output_type": "stream",
     "text": [
      "[1 2 3 4 5 6 7]\n"
     ]
    }
   ],
   "source": [
    "print(ints)"
   ]
  },
  {
   "cell_type": "code",
   "execution_count": 32,
   "metadata": {},
   "outputs": [
    {
     "data": {
      "text/plain": [
       "array([3, 4, 5, 6, 7])"
      ]
     },
     "execution_count": 32,
     "metadata": {},
     "output_type": "execute_result"
    }
   ],
   "source": [
    "ints[-5:]"
   ]
  },
  {
   "cell_type": "code",
   "execution_count": 43,
   "metadata": {},
   "outputs": [
    {
     "data": {
      "text/plain": [
       "array([[0., 0.],\n",
       "       [0., 0.]])"
      ]
     },
     "execution_count": 43,
     "metadata": {},
     "output_type": "execute_result"
    }
   ],
   "source": [
    "np.zeros(shape = (2,2))"
   ]
  },
  {
   "cell_type": "code",
   "execution_count": 44,
   "metadata": {},
   "outputs": [
    {
     "data": {
      "text/plain": [
       "(150, 25001, 3)"
      ]
     },
     "execution_count": 44,
     "metadata": {},
     "output_type": "execute_result"
    }
   ],
   "source": [
    "fy_spec.shape"
   ]
  },
  {
   "cell_type": "code",
   "execution_count": 46,
   "metadata": {},
   "outputs": [],
   "source": [
    "one_chan = fy_spec[:,:,0]"
   ]
  },
  {
   "cell_type": "code",
   "execution_count": 53,
   "metadata": {},
   "outputs": [
    {
     "data": {
      "text/plain": [
       "array([[-3.976284 , -0.7534218],\n",
       "       [-1.8763809, -0.791687 ]], dtype=float32)"
      ]
     },
     "execution_count": 53,
     "metadata": {},
     "output_type": "execute_result"
    }
   ],
   "source": [
    "one_chan[1:3, 1:3]"
   ]
  },
  {
   "cell_type": "code",
   "execution_count": 57,
   "metadata": {},
   "outputs": [],
   "source": [
    "def expand_spectrogram(spectrogram, pre_context, post_context):\n",
    "    '''\n",
    "    Expands a 2D spectrogram into slices of the correct shape to be input into the model\n",
    "    \n",
    "    Args:\n",
    "        spectrogram [np.array]:\n",
    "        pre_context [int]:\n",
    "        post_context [int]:\n",
    "    \n",
    "    Returns:\n",
    "        np.array: \n",
    "    \n",
    "    '''\n",
    "    \n",
    "    n_features, n_windows = spectrogram.shape\n",
    "    \n",
    "    input_width = 1 + pre_context + post_context\n",
    "    \n",
    "    expanded_spectrogram = np.zeros(shape = (n_features, input_width, n_windows)) # assign into this np.array\n",
    "    \n",
    "    for idx in range(n_windows):\n",
    "        if idx - pre_context < 0:    # in a window where you would slice before the beginning\n",
    "            start = pre_context-idx\n",
    "            end = idx + post_context\n",
    "            expanded_spectrogram[:,start:,idx] = spectrogram[:, :idx+post_context+1 ]\n",
    "        elif idx + pre_context > n_windows: # in a window where you would slice past the end\n",
    "            expanded_spectrogram[:,:,idx] = spectrogram[:, ]\n",
    "        else:\n",
    "            expanded_spectrogram[:,:,idx] = spectrogram[:, idx-pre_context : idx+post_context+1]\n",
    "        \n",
    "    \n",
    "    \n",
    "    return expanded_spectrogram"
   ]
  },
  {
   "cell_type": "code",
   "execution_count": null,
   "metadata": {},
   "outputs": [],
   "source": []
  }
 ],
 "metadata": {
  "kernelspec": {
   "display_name": "Python 3",
   "language": "python",
   "name": "python3"
  },
  "language_info": {
   "codemirror_mode": {
    "name": "ipython",
    "version": 3
   },
   "file_extension": ".py",
   "mimetype": "text/x-python",
   "name": "python",
   "nbconvert_exporter": "python",
   "pygments_lexer": "ipython3",
   "version": "3.7.9"
  }
 },
 "nbformat": 4,
 "nbformat_minor": 4
}
