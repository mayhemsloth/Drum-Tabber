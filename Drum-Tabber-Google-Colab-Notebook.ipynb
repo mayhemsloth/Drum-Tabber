{
 "cells": [
  {
   "cell_type": "markdown",
   "metadata": {},
   "source": [
    "This Jupyter Notebook is meant to be accessed via Google Colab and will be the main method to train models on Google Colab."
   ]
  },
  {
   "cell_type": "code",
   "execution_count": 2,
   "metadata": {},
   "outputs": [],
   "source": [
    "# primary importing code block to utilize the python files\n",
    "import os\n",
    "import json\n",
    "import random\n",
    "import numpy as np\n",
    "import pandas as pd\n",
    "import matplotlib.pyplot as plt\n",
    "import tensorflow as tf\n",
    "from tensorflow.keras.layers import Conv2D, Input, LeakyReLU, ZeroPadding2D, BatchNormalization, MaxPool2D\n",
    "from pydub import AudioSegment   # main class from pydub package used to upload mp3 into Python and then get a NumPy array\n",
    "import IPython.display as ipd    # ability to play audio in Jupyter Notebooks if needed\n",
    "import librosa as lb             # loads the librosa package\n",
    "import librosa.display\n",
    "from src.configs import *\n",
    "from src.utils import MusicAlignedTab, create_FullSet_df, one_hot_encode, collapse_class, clean_labels\n",
    "from src.utils import save_drum_tabber_model, load_drum_tabber_model, create_configs_dict\n",
    "from src.dataset import Dataset\n",
    "import src.utils as ut"
   ]
  },
  {
   "cell_type": "code",
   "execution_count": 245,
   "metadata": {
    "scrolled": true
   },
   "outputs": [
    {
     "name": "stderr",
     "output_type": "stream",
     "text": [
      "C:\\ProgramData\\Anaconda3\\lib\\site-packages\\librosa\\core\\audio.py:161: UserWarning: PySoundFile failed. Trying audioread instead.\n",
      "  warnings.warn('PySoundFile failed. Trying audioread instead.')\n"
     ]
    }
   ],
   "source": [
    "mat = MusicAlignedTab('mookies_last_christmas')\n",
    "df = mat.MAT"
   ]
  },
  {
   "cell_type": "code",
   "execution_count": 246,
   "metadata": {},
   "outputs": [
    {
     "name": "stdout",
     "output_type": "stream",
     "text": [
      "---dataframe.describe() without blank_chars---\n",
      "          tk   BD   SD   HH  RD   CC C2  LT  MT  HT\n",
      "count   1936  455  227  217  58  198  3  50  59  75\n",
      "unique     7    1    2    3   2    2  1   1   1   1\n",
      "top        +    o    o    x   x    x  x   o   o   o\n",
      "freq     484  455  225  170  49  196  3  50  59  75\n",
      "\n",
      "---Unique values and frequencies by column name---\n",
      "      +    e    a    4    3    1    2\n",
      "tk  484  484  484  121  121  121  121\n",
      "\n",
      "       -    o\n",
      "BD  1481  455\n",
      "\n",
      "       -    o  O\n",
      "SD  1709  225  2\n",
      "\n",
      "       -    x   o  X\n",
      "HH  1719  170  45  2\n",
      "\n",
      "       -   x  b\n",
      "RD  1878  49  9\n",
      "\n",
      "       -    x  X\n",
      "CC  1738  196  2\n",
      "\n",
      "       -  x\n",
      "C2  1933  3\n",
      "\n",
      "       -   o\n",
      "LT  1886  50\n",
      "\n",
      "       -   o\n",
      "MT  1877  59\n",
      "\n",
      "       -   o\n",
      "HT  1861  75\n",
      "\n",
      "---dataframe.describe() without blank_chars---\n",
      "         tk   BD   SD   HH   at   ac\n",
      "count   484  455  227  170  166  297\n",
      "unique    2    1    1    1    1    1\n",
      "top       c    o    o    x    o    x\n",
      "freq    363  455  227  170  166  297\n",
      "\n",
      "---Unique values and frequencies by column name---\n",
      "       -    c    C\n",
      "tk  1452  363  121\n",
      "\n",
      "       -    o\n",
      "BD  1481  455\n",
      "\n",
      "       -    o\n",
      "SD  1709  227\n",
      "\n",
      "       -    x\n",
      "HH  1766  170\n",
      "\n",
      "       -    o\n",
      "at  1770  166\n",
      "\n",
      "       -    x\n",
      "ac  1639  297\n",
      "\n"
     ]
    },
    {
     "name": "stderr",
     "output_type": "stream",
     "text": [
      "C:\\ProgramData\\Anaconda3\\lib\\site-packages\\pandas\\core\\missing.py:49: FutureWarning: elementwise comparison failed; returning scalar instead, but in the future will perform elementwise comparison\n",
      "  mask = arr == x\n"
     ]
    }
   ],
   "source": [
    "df = clean_labels(df)\n",
    "MusicAlignedTab.labels_summary(df)\n",
    "df = collapse_class(df, keep_dynamics = False, keep_bells = False, keep_toms_separate = False, hihat_classes=1, cymbal_classes=1)\n",
    "MusicAlignedTab.labels_summary(df)"
   ]
  },
  {
   "cell_type": "code",
   "execution_count": 247,
   "metadata": {},
   "outputs": [
    {
     "name": "stdout",
     "output_type": "stream",
     "text": [
      "one_hot_encode: col_list before encoding = ['tk', 'BD', 'SD', 'HH', 'at', 'ac']\n",
      "one_hot_encode: col_list after encoding = ['song slice', 'sample start', 'tk_beat', 'tk_downbeat', 'BD_o', 'SD_o', 'HH_x', 'at_o', 'ac_x']\n",
      "Index(['song slice', 'sample start', 'tk_beat', 'tk_downbeat', 'BD_o', 'SD_o',\n",
      "       'HH_x', 'at_o', 'ac_x'],\n",
      "      dtype='object')\n"
     ]
    },
    {
     "data": {
      "text/html": [
       "<div>\n",
       "<style scoped>\n",
       "    .dataframe tbody tr th:only-of-type {\n",
       "        vertical-align: middle;\n",
       "    }\n",
       "\n",
       "    .dataframe tbody tr th {\n",
       "        vertical-align: top;\n",
       "    }\n",
       "\n",
       "    .dataframe thead th {\n",
       "        text-align: right;\n",
       "    }\n",
       "</style>\n",
       "<table border=\"1\" class=\"dataframe\">\n",
       "  <thead>\n",
       "    <tr style=\"text-align: right;\">\n",
       "      <th></th>\n",
       "      <th>song slice</th>\n",
       "      <th>sample start</th>\n",
       "      <th>tk_beat</th>\n",
       "      <th>tk_downbeat</th>\n",
       "      <th>BD_o</th>\n",
       "      <th>SD_o</th>\n",
       "      <th>HH_x</th>\n",
       "      <th>at_o</th>\n",
       "      <th>ac_x</th>\n",
       "    </tr>\n",
       "  </thead>\n",
       "  <tbody>\n",
       "    <tr>\n",
       "      <th>0</th>\n",
       "      <td>[[0.05392456, 0.070617676], [0.051116943, 0.06...</td>\n",
       "      <td>15611</td>\n",
       "      <td>1</td>\n",
       "      <td>1</td>\n",
       "      <td>1</td>\n",
       "      <td>0</td>\n",
       "      <td>0</td>\n",
       "      <td>0</td>\n",
       "      <td>1</td>\n",
       "    </tr>\n",
       "    <tr>\n",
       "      <th>1</th>\n",
       "      <td>[[0.19418335, 0.21206665], [0.23873901, 0.2072...</td>\n",
       "      <td>19056</td>\n",
       "      <td>0</td>\n",
       "      <td>0</td>\n",
       "      <td>0</td>\n",
       "      <td>0</td>\n",
       "      <td>0</td>\n",
       "      <td>0</td>\n",
       "      <td>0</td>\n",
       "    </tr>\n",
       "    <tr>\n",
       "      <th>2</th>\n",
       "      <td>[[-0.19116211, -0.15524292], [-0.071380615, -0...</td>\n",
       "      <td>22501</td>\n",
       "      <td>0</td>\n",
       "      <td>0</td>\n",
       "      <td>0</td>\n",
       "      <td>0</td>\n",
       "      <td>1</td>\n",
       "      <td>0</td>\n",
       "      <td>0</td>\n",
       "    </tr>\n",
       "    <tr>\n",
       "      <th>3</th>\n",
       "      <td>[[-0.009857178, -0.09375], [0.03488159, -0.126...</td>\n",
       "      <td>25946</td>\n",
       "      <td>0</td>\n",
       "      <td>0</td>\n",
       "      <td>0</td>\n",
       "      <td>0</td>\n",
       "      <td>0</td>\n",
       "      <td>0</td>\n",
       "      <td>0</td>\n",
       "    </tr>\n",
       "    <tr>\n",
       "      <th>4</th>\n",
       "      <td>[[0.043182373, 0.111968994], [0.050994873, 0.1...</td>\n",
       "      <td>29391</td>\n",
       "      <td>1</td>\n",
       "      <td>0</td>\n",
       "      <td>0</td>\n",
       "      <td>0</td>\n",
       "      <td>1</td>\n",
       "      <td>0</td>\n",
       "      <td>0</td>\n",
       "    </tr>\n",
       "  </tbody>\n",
       "</table>\n",
       "</div>"
      ],
      "text/plain": [
       "                                          song slice  sample start  tk_beat  \\\n",
       "0  [[0.05392456, 0.070617676], [0.051116943, 0.06...         15611        1   \n",
       "1  [[0.19418335, 0.21206665], [0.23873901, 0.2072...         19056        0   \n",
       "2  [[-0.19116211, -0.15524292], [-0.071380615, -0...         22501        0   \n",
       "3  [[-0.009857178, -0.09375], [0.03488159, -0.126...         25946        0   \n",
       "4  [[0.043182373, 0.111968994], [0.050994873, 0.1...         29391        1   \n",
       "\n",
       "   tk_downbeat  BD_o  SD_o  HH_x  at_o  ac_x  \n",
       "0            1     1     0     0     0     1  \n",
       "1            0     0     0     0     0     0  \n",
       "2            0     0     0     1     0     0  \n",
       "3            0     0     0     0     0     0  \n",
       "4            0     0     0     1     0     0  "
      ]
     },
     "execution_count": 247,
     "metadata": {},
     "output_type": "execute_result"
    }
   ],
   "source": [
    "encode_df = one_hot_encode(df)\n",
    "print(encode_df.columns)\n",
    "encode_df.head()"
   ]
  },
  {
   "cell_type": "code",
   "execution_count": null,
   "metadata": {},
   "outputs": [],
   "source": [
    "for idx, val in target_dict.items():\n",
    "    print(f'total windows that {val} are labeled 1 = {np.count_nonzero(targets[idx,:,0])}')\n",
    "print(f'total windows = {targets.shape[1]}')"
   ]
  },
  {
   "cell_type": "code",
   "execution_count": null,
   "metadata": {},
   "outputs": [],
   "source": [
    "fig = plt.figure(figsize = (10,10))\n",
    "ax = fig.add_subplot()\n",
    "plt.imshow(targets[:,:,1])\n",
    "plt.show()"
   ]
  },
  {
   "cell_type": "code",
   "execution_count": null,
   "metadata": {},
   "outputs": [],
   "source": [
    "MusicAlignedTab.labels_summary(encode_df)"
   ]
  },
  {
   "cell_type": "code",
   "execution_count": null,
   "metadata": {},
   "outputs": [],
   "source": [
    "targets = np.zeros((7, 10, 3), dtype=int)\n",
    "print(targets.shape)\n",
    "targets[:, 0, :]"
   ]
  },
  {
   "cell_type": "code",
   "execution_count": null,
   "metadata": {},
   "outputs": [],
   "source": [
    "df.drop(columns = ['song slice', 'sample start'])[df.drop(columns = ['song slice', 'sample start']) != '-'].describe()"
   ]
  },
  {
   "cell_type": "code",
   "execution_count": null,
   "metadata": {},
   "outputs": [],
   "source": [
    "mat.random_alignment_checker(['BD', 'SD', 'CC'], 14)"
   ]
  },
  {
   "cell_type": "code",
   "execution_count": null,
   "metadata": {
    "scrolled": false
   },
   "outputs": [],
   "source": [
    "librosa.display.specshow(S[:,:,0], sr=44100, x_axis='time', y_axis = 'mel')"
   ]
  },
  {
   "cell_type": "markdown",
   "metadata": {},
   "source": [
    "### FullSet Testing"
   ]
  },
  {
   "cell_type": "code",
   "execution_count": null,
   "metadata": {},
   "outputs": [],
   "source": [
    "def play(samples, sr=44100):\n",
    "    '''\n",
    "    Helper function just so I can type play(samples) to get the song output\n",
    "    '''\n",
    "    return ipd.Audio(samples, rate = sr)"
   ]
  },
  {
   "cell_type": "code",
   "execution_count": null,
   "metadata": {
    "scrolled": true
   },
   "outputs": [],
   "source": [
    "FullSet = create_FullSet_df(SONGS_PATH)\n",
    "FullSet_clean = clean_labels(FullSet)\n",
    "MusicAlignedTab.labels_summary(FullSet_clean)\n",
    "FullSet_collapse = collapse_class(FullSet_clean, keep_dynamics = False, keep_bells = False, keep_toms_separate = False, hihat_classes=1, cymbal_classes=1)\n",
    "MusicAlignedTab.labels_summary(FullSet_collapse)\n",
    "FullSet_encoded = one_hot_encode(FullSet_collapse)"
   ]
  },
  {
   "cell_type": "code",
   "execution_count": null,
   "metadata": {
    "scrolled": false
   },
   "outputs": [],
   "source": [
    "tset = Dataset('train', FullSet_encoded)\n",
    "vset = Dataset('val', FullSet_encoded)"
   ]
  },
  {
   "cell_type": "code",
   "execution_count": null,
   "metadata": {},
   "outputs": [],
   "source": [
    "song_idx = 1"
   ]
  },
  {
   "cell_type": "code",
   "execution_count": null,
   "metadata": {},
   "outputs": [],
   "source": [
    "%%time\n",
    "song_df = tset.subset_df.loc[tset.song_list[song_idx]].copy()\n",
    "song = np.vstack(song_df['song slice'].to_numpy()).T   # stacks the song slices back into a single numpy array of shape (channels, samples)\n",
    "mono_song = lb.core.to_mono(song)\n",
    "channels = [mono_song]              # channels is a list of either [mono_song] or [mono, L_song, R_song]\n",
    "if INCLUDE_LR_CHANNELS:             # appending the LR channels to the channels variable\n",
    "    channels.append(song[0,:])\n",
    "    channels.append(song[1,:])\n",
    "aug_channels = tset.augment_audio_cp(channels, tset.aug_comp, sr=SAMPLE_RATE)"
   ]
  },
  {
   "cell_type": "code",
   "execution_count": 24,
   "metadata": {},
   "outputs": [],
   "source": [
    "numpysave_fp = 'C:/Users/Thomas/Python Projects/Drum-Tabber-Support-Data/Experimental/'"
   ]
  },
  {
   "cell_type": "code",
   "execution_count": 30,
   "metadata": {},
   "outputs": [
    {
     "name": "stdout",
     "output_type": "stream",
     "text": [
      "(150, 20804, 3)\n"
     ]
    }
   ],
   "source": [
    "fy_spec = np.load(numpysave_fp+'fy_spec.npy')\n",
    "fy_tar = np.load(numpysave_fp+'fy_tar.npy')\n",
    "mb_spec = np.load(numpysave_fp+'mb_spec.npy')\n",
    "mb_tar = np.load(numpysave_fp+'mb_tar.npy')\n",
    "print(mb_spec.shape)"
   ]
  },
  {
   "cell_type": "code",
   "execution_count": 56,
   "metadata": {
    "scrolled": true
   },
   "outputs": [
    {
     "data": {
      "text/plain": [
       "<AxesSubplot:xlabel='Time', ylabel='Hz'>"
      ]
     },
     "execution_count": 56,
     "metadata": {},
     "output_type": "execute_result"
    },
    {
     "data": {
      "image/png": "[encoded data removed]",
      "text/plain": [
       "<Figure size 1440x720 with 1 Axes>"
      ]
     },
     "metadata": {
      "needs_background": "light"
     },
     "output_type": "display_data"
    }
   ],
   "source": [
    "lb.display.specshow(mb_spec[:50,0:1550,0], sr=44100, hop_length=441,\n",
    "                    x_axis = 'time' , y_axis = 'mel')"
   ]
  },
  {
   "cell_type": "code",
   "execution_count": null,
   "metadata": {},
   "outputs": [],
   "source": [
    "np.logical_not()"
   ]
  },
  {
   "cell_type": "code",
   "execution_count": null,
   "metadata": {
    "scrolled": true
   },
   "outputs": [],
   "source": [
    "m,n = 20,7\n",
    "prob = 0.05\n",
    "rand_labels = (np.random.rand(m,n) <= prob).astype(np.int)\n",
    "rand_logits = np.random.rand(m,n)\n",
    "weigh =  np.array([prob for _ in range (n)], dtype=np.float32)\n",
    "print(rand_labels)\n",
    "print(rand_logits)\n",
    "print(weigh, weigh.shape)\n",
    "\n",
    "\n",
    "losses = tf.nn.weighted_cross_entropy_with_logits(labels = rand_labels.astype(np.float32),\n",
    "                                                logits = tf.dtypes.cast(rand_logits, np.float32),\n",
    "                                                 pos_weight = weigh)\n",
    "print(losses)"
   ]
  },
  {
   "cell_type": "markdown",
   "metadata": {},
   "source": [
    "## Testing of the train.py"
   ]
  },
  {
   "cell_type": "code",
   "execution_count": 1,
   "metadata": {
    "scrolled": false
   },
   "outputs": [
    {
     "name": "stderr",
     "output_type": "stream",
     "text": [
      "C:\\ProgramData\\Anaconda3\\lib\\site-packages\\librosa\\core\\audio.py:161: UserWarning: PySoundFile failed. Trying audioread instead.\n",
      "  warnings.warn('PySoundFile failed. Trying audioread instead.')\n"
     ]
    },
    {
     "name": "stdout",
     "output_type": "stream",
     "text": [
      "...Concatenating all music-aligned dataframes\n",
      "...Replacing NaNs with - for output\n",
      "---dataframe.describe() without blank_chars---\n",
      "           tk     BD    SD    HH    RD    CC    C2   LT   MT   HT  CH   C3  SC\n",
      "count   49917  11829  7624  5388  1718  3279  2334  994  391  298  97  302  26\n",
      "unique      9      3     8     9     5     4     4    5    4    4   3    3   2\n",
      "top         +      o     o     x     x     X     X    o    o    o   X    X   X\n",
      "freq    12461  11356  6527  2905  1090  2016  1891  888  315  249  81  264  20\n",
      "\n",
      "---Unique values and frequencies by column name---\n",
      "        +      e      a     1     2     3     4   t   s\n",
      "tk  12461  12459  12446  3206  3202  3199  2867  47  30\n",
      "\n",
      "        -      o    O   d\n",
      "BD  38088  11356  430  43\n",
      "\n",
      "        -     o    g    O    f   d   r   x  0\n",
      "SD  42293  6527  527  271  136  75  73  14  1\n",
      "\n",
      "        -     x     X    o   O   s   g  S  d  w\n",
      "HH  44529  2905  2186  195  35  32  26  5  2  2\n",
      "\n",
      "        -     x    X    b   g   f\n",
      "RD  48199  1090  476  113  25  14\n",
      "\n",
      "        -     X     x  b  #\n",
      "CC  46638  2016  1252  7  4\n",
      "\n",
      "        -     X    x  #  b\n",
      "C2  47583  1891  439  3  1\n",
      "\n",
      "        -    o   O   D   d   f\n",
      "LT  48923  888  47  31  16  12\n",
      "\n",
      "        -    o   O   d  f\n",
      "MT  49526  315  57  10  9\n",
      "\n",
      "        -    o   O  f  d\n",
      "HT  49619  249  36  8  5\n",
      "\n",
      "        -   X   x  g\n",
      "CH  49820  81  14  2\n",
      "\n",
      "        -    X   x   #\n",
      "C3  49615  264  26  12\n",
      "\n",
      "        -   X  b\n",
      "SC  49891  20  6\n",
      "\n",
      "---dataframe.describe() without blank_chars---\n",
      "           tk     BD    SD    HH    RD    CC    C2   LT   MT   HT  CH   C3  SC\n",
      "count   49917  11829  7551  5351  1718  3275  2331  994  391  298  97  290  26\n",
      "unique      9      2     3     4     4     3     3    2    2    2   3    2   2\n",
      "top         +      o     o     x     x     X     X    o    o    o   X    X   X\n",
      "freq    12461  11399  6752  2907  1104  2016  1891  916  334  262  81  264  20\n",
      "\n",
      "---Unique values and frequencies by column name---\n",
      "        +      e      a     1     2     3     4   t   s\n",
      "tk  12461  12459  12446  3206  3202  3199  2867  47  30\n",
      "\n",
      "        -      o    O\n",
      "BD  38088  11399  430\n",
      "\n",
      "        -     o    g    O\n",
      "SD  42366  6752  527  272\n",
      "\n",
      "        -     x     X    o   g\n",
      "HH  44566  2907  2188  230  26\n",
      "\n",
      "        -     x    X    b   g\n",
      "RD  48199  1104  476  113  25\n",
      "\n",
      "        -     X     x  b\n",
      "CC  46642  2016  1252  7\n",
      "\n",
      "        -     X    x  b\n",
      "C2  47586  1891  439  1\n",
      "\n",
      "        -    o   O\n",
      "LT  48923  916  78\n",
      "\n",
      "        -    o   O\n",
      "MT  49526  334  57\n",
      "\n",
      "        -    o   O\n",
      "HT  49619  262  36\n",
      "\n",
      "        -   X   x  g\n",
      "CH  49820  81  14  2\n",
      "\n",
      "        -    X   x\n",
      "C3  49627  264  26\n",
      "\n",
      "        -   X  b\n",
      "SC  49891  20  6\n",
      "\n"
     ]
    },
    {
     "name": "stderr",
     "output_type": "stream",
     "text": [
      "C:\\ProgramData\\Anaconda3\\lib\\site-packages\\pandas\\core\\missing.py:49: FutureWarning: elementwise comparison failed; returning scalar instead, but in the future will perform elementwise comparison\n",
      "  mask = arr == x\n"
     ]
    },
    {
     "name": "stdout",
     "output_type": "stream",
     "text": [
      "---dataframe.describe() without blank_chars---\n",
      "           tk     BD    SD    HH    at    ac\n",
      "count   12474  11829  7024  2907  1540  9801\n",
      "unique      2      1     1     1     1     1\n",
      "top         c      o     o     x     o     x\n",
      "freq     9268  11829  7024  2907  1540  9801\n",
      "\n",
      "---Unique values and frequencies by column name---\n",
      "        -     c     C\n",
      "tk  37443  9268  3206\n",
      "\n",
      "        -      o\n",
      "BD  38088  11829\n",
      "\n",
      "        -     o\n",
      "SD  42893  7024\n",
      "\n",
      "        -     x\n",
      "HH  47010  2907\n",
      "\n",
      "        -     o\n",
      "at  48377  1540\n",
      "\n",
      "        -     x\n",
      "ac  40116  9801\n",
      "\n",
      "one_hot_encode: col_list before encoding = ['tk', 'BD', 'SD', 'HH', 'at', 'ac']\n",
      "one_hot_encode: col_list after encoding = ['song slice', 'sample start', 'tk_beat', 'tk_downbeat', 'BD_o', 'SD_o', 'HH_x', 'at_o', 'ac_x']\n",
      "train.py main(): FullSet_encoded created!\n",
      "train.py main():  [0.06582413 0.01681589 0.06233465 0.03716487 0.01540682 0.00812442\n",
      " 0.05179414]\n",
      "train.py main(): drum_tabber model created!\n",
      "Model: \"model\"\n",
      "_________________________________________________________________\n",
      "Layer (type)                 Output Shape              Param #   \n",
      "=================================================================\n",
      "input_1 (InputLayer)         [(None, 100, 27, 1)]      0         \n",
      "_________________________________________________________________\n",
      "conv2d (Conv2D)              (None, 100, 27, 32)       288       \n",
      "_________________________________________________________________\n",
      "batch_normalization (BatchNo (None, 100, 27, 32)       128       \n",
      "_________________________________________________________________\n",
      "re_lu (ReLU)                 (None, 100, 27, 32)       0         \n",
      "_________________________________________________________________\n",
      "dropout (Dropout)            (None, 100, 27, 32)       0         \n",
      "_________________________________________________________________\n",
      "max_pooling2d (MaxPooling2D) (None, 20, 6, 32)         0         \n",
      "_________________________________________________________________\n",
      "conv2d_1 (Conv2D)            (None, 20, 6, 128)        36864     \n",
      "_________________________________________________________________\n",
      "batch_normalization_1 (Batch (None, 20, 6, 128)        512       \n",
      "_________________________________________________________________\n",
      "re_lu_1 (ReLU)               (None, 20, 6, 128)        0         \n",
      "_________________________________________________________________\n",
      "dropout_1 (Dropout)          (None, 20, 6, 128)        0         \n",
      "_________________________________________________________________\n",
      "max_pooling2d_1 (MaxPooling2 (None, 7, 2, 128)         0         \n",
      "_________________________________________________________________\n",
      "flatten (Flatten)            (None, 1792)              0         \n",
      "_________________________________________________________________\n",
      "dense (Dense)                (None, 512)               918016    \n",
      "_________________________________________________________________\n",
      "batch_normalization_2 (Batch (None, 512)               2048      \n",
      "_________________________________________________________________\n",
      "dense_1 (Dense)              (None, 7)                 3591      \n",
      "=================================================================\n",
      "Total params: 961,447\n",
      "Trainable params: 960,103\n",
      "Non-trainable params: 1,344\n",
      "_________________________________________________________________\n",
      "train.py main():  None\n",
      "Starting Epoch 1/10\n",
      "Epoch: 1 Song  1/23, lr:0.000004, song_loss:1.418142\n",
      "Epoch: 1 Song  2/23, lr:0.000009, song_loss:1.394360\n",
      "Epoch: 1 Song  3/23, lr:0.000013, song_loss:1.348207\n",
      "Epoch: 1 Song  4/23, lr:0.000017, song_loss:1.318222\n",
      "Epoch: 1 Song  5/23, lr:0.000022, song_loss:1.266446\n",
      "Epoch: 1 Song  6/23, lr:0.000026, song_loss:1.378048\n",
      "Epoch: 1 Song  7/23, lr:0.000030, song_loss:1.260450\n",
      "Epoch: 1 Song  8/23, lr:0.000035, song_loss:1.409685\n",
      "Epoch: 1 Song  9/23, lr:0.000039, song_loss:1.328037\n",
      "Epoch: 1 Song 10/23, lr:0.000043, song_loss:1.165077\n",
      "Epoch: 1 Song 11/23, lr:0.000048, song_loss:1.395925\n",
      "Epoch: 1 Song 12/23, lr:0.000052, song_loss:1.167219\n",
      "Epoch: 1 Song 13/23, lr:0.000057, song_loss:1.249108\n",
      "Epoch: 1 Song 14/23, lr:0.000061, song_loss:1.549543\n",
      "Epoch: 1 Song 15/23, lr:0.000065, song_loss:1.124679\n",
      "Epoch: 1 Song 16/23, lr:0.000070, song_loss:1.204075\n",
      "Epoch: 1 Song 17/23, lr:0.000074, song_loss:1.189388\n",
      "Epoch: 1 Song 18/23, lr:0.000078, song_loss:1.275355\n",
      "Epoch: 1 Song 19/23, lr:0.000083, song_loss:1.198151\n",
      "Epoch: 1 Song 20/23, lr:0.000087, song_loss:1.313090\n",
      "Epoch: 1 Song 21/23, lr:0.000091, song_loss:1.422290\n",
      "Epoch: 1 Song 22/23, lr:0.000096, song_loss:1.095371\n",
      "Epoch: 1 Song 23/23, lr:0.000100, song_loss:1.371785\n",
      "\n",
      "\n",
      "Epoch:  1 val_loss:1.207641 \n",
      "\n",
      "\n",
      "Val Error_df: \n",
      "                P     N   TP    TN    FP   FN    EX\n",
      "tk_beat      1133  3401  815  2925   476  318   387\n",
      "tk_downbeat   283  4251  202  3228  1023   81  1141\n",
      "BD_o          964  3570  654  3116   454  310   352\n",
      "SD_o          661  3873  445  3543   330  216   252\n",
      "HH_x          152  4382   44  3454   928  108  1057\n",
      "at_o          128  4406   42  3397  1009   86  1115\n",
      "ac_x          925  3609  667  3052   557  258   487\n",
      "Val Accuracy: \n",
      "tk_beat        0.824879\n",
      "tk_downbeat    0.756506\n",
      "BD_o           0.831495\n",
      "SD_o           0.879577\n",
      "HH_x           0.771504\n",
      "at_o           0.758491\n",
      "ac_x           0.820247\n",
      "dtype: float64\n",
      "Val F1 Score: \n",
      "tk_beat        0.672442\n",
      "tk_downbeat    0.267905\n",
      "BD_o           0.631274\n",
      "SD_o           0.619777\n",
      "HH_x           0.078292\n",
      "at_o           0.071247\n",
      "ac_x           0.620754\n",
      "dtype: float64\n",
      "Starting Epoch 2/10\n",
      "Epoch: 2 Song  1/23, lr:0.000100, song_loss:1.241971\n",
      "Epoch: 2 Song  2/23, lr:0.000100, song_loss:1.053298\n",
      "Epoch: 2 Song  3/23, lr:0.000100, song_loss:1.127037\n",
      "Epoch: 2 Song  4/23, lr:0.000100, song_loss:1.120984\n",
      "Epoch: 2 Song  5/23, lr:0.000100, song_loss:1.390519\n",
      "Epoch: 2 Song  6/23, lr:0.000100, song_loss:1.482919\n",
      "Epoch: 2 Song  7/23, lr:0.000100, song_loss:1.057608\n",
      "Epoch: 2 Song  8/23, lr:0.000100, song_loss:1.050518\n",
      "Epoch: 2 Song  9/23, lr:0.000100, song_loss:1.106821\n",
      "Epoch: 2 Song 10/23, lr:0.000099, song_loss:1.184978\n",
      "Epoch: 2 Song 11/23, lr:0.000099, song_loss:1.260482\n",
      "Epoch: 2 Song 12/23, lr:0.000099, song_loss:1.037909\n",
      "Epoch: 2 Song 13/23, lr:0.000099, song_loss:1.276481\n",
      "Epoch: 2 Song 14/23, lr:0.000099, song_loss:1.128843\n",
      "Epoch: 2 Song 15/23, lr:0.000099, song_loss:1.213716\n",
      "Epoch: 2 Song 16/23, lr:0.000099, song_loss:1.213342\n",
      "Epoch: 2 Song 17/23, lr:0.000098, song_loss:1.147688\n",
      "Epoch: 2 Song 18/23, lr:0.000098, song_loss:1.135924\n",
      "Epoch: 2 Song 19/23, lr:0.000098, song_loss:1.248965\n",
      "Epoch: 2 Song 20/23, lr:0.000098, song_loss:1.108675\n",
      "Epoch: 2 Song 21/23, lr:0.000098, song_loss:1.175692\n",
      "Epoch: 2 Song 22/23, lr:0.000097, song_loss:1.291153\n",
      "Epoch: 2 Song 23/23, lr:0.000097, song_loss:1.058698\n",
      "\n",
      "\n",
      "Epoch:  2 val_loss:1.164575 \n",
      "\n",
      "\n",
      "Starting Epoch 3/10\n",
      "Epoch: 3 Song  1/23, lr:0.000097, song_loss:1.170373\n",
      "Epoch: 3 Song  2/23, lr:0.000096, song_loss:1.214525\n",
      "Epoch: 3 Song  3/23, lr:0.000096, song_loss:1.059994\n",
      "Epoch: 3 Song  4/23, lr:0.000096, song_loss:1.114111\n",
      "Epoch: 3 Song  5/23, lr:0.000096, song_loss:1.069893\n",
      "Epoch: 3 Song  6/23, lr:0.000095, song_loss:1.130743\n",
      "Epoch: 3 Song  7/23, lr:0.000095, song_loss:0.975114\n",
      "Epoch: 3 Song  8/23, lr:0.000095, song_loss:1.246332\n",
      "Epoch: 3 Song  9/23, lr:0.000094, song_loss:1.224895\n",
      "Epoch: 3 Song 10/23, lr:0.000094, song_loss:1.012503\n",
      "Epoch: 3 Song 11/23, lr:0.000094, song_loss:1.075557\n",
      "Epoch: 3 Song 12/23, lr:0.000093, song_loss:1.162227\n",
      "Epoch: 3 Song 13/23, lr:0.000093, song_loss:1.108470\n",
      "Epoch: 3 Song 14/23, lr:0.000092, song_loss:0.999988\n",
      "Epoch: 3 Song 15/23, lr:0.000092, song_loss:1.531877\n",
      "Epoch: 3 Song 16/23, lr:0.000092, song_loss:1.012493\n",
      "Epoch: 3 Song 17/23, lr:0.000091, song_loss:1.105157\n",
      "Epoch: 3 Song 18/23, lr:0.000091, song_loss:1.063233\n",
      "Epoch: 3 Song 19/23, lr:0.000090, song_loss:1.131964\n",
      "Epoch: 3 Song 20/23, lr:0.000090, song_loss:1.358964\n",
      "Epoch: 3 Song 21/23, lr:0.000089, song_loss:1.254843\n",
      "Epoch: 3 Song 22/23, lr:0.000089, song_loss:1.404229\n",
      "Epoch: 3 Song 23/23, lr:0.000088, song_loss:1.274660\n",
      "\n",
      "\n",
      "Epoch:  3 val_loss:1.158444 \n",
      "\n",
      "\n",
      "Starting Epoch 4/10\n",
      "Epoch: 4 Song  1/23, lr:0.000088, song_loss:1.112490\n",
      "Epoch: 4 Song  2/23, lr:0.000087, song_loss:1.177956\n",
      "Epoch: 4 Song  3/23, lr:0.000087, song_loss:1.111869\n",
      "Epoch: 4 Song  4/23, lr:0.000086, song_loss:0.989929\n",
      "Epoch: 4 Song  5/23, lr:0.000086, song_loss:1.222121\n"
     ]
    },
    {
     "name": "stdout",
     "output_type": "stream",
     "text": [
      "Epoch: 4 Song  6/23, lr:0.000085, song_loss:1.224125\n",
      "Epoch: 4 Song  7/23, lr:0.000085, song_loss:1.000492\n",
      "Epoch: 4 Song  8/23, lr:0.000084, song_loss:1.311578\n",
      "Epoch: 4 Song  9/23, lr:0.000084, song_loss:1.092965\n",
      "Epoch: 4 Song 10/23, lr:0.000083, song_loss:1.072457\n",
      "Epoch: 4 Song 11/23, lr:0.000083, song_loss:1.040347\n",
      "Epoch: 4 Song 12/23, lr:0.000082, song_loss:1.039981\n",
      "Epoch: 4 Song 13/23, lr:0.000081, song_loss:1.073267\n",
      "Epoch: 4 Song 14/23, lr:0.000081, song_loss:1.315789\n",
      "Epoch: 4 Song 15/23, lr:0.000080, song_loss:0.987848\n",
      "Epoch: 4 Song 16/23, lr:0.000080, song_loss:1.526283\n",
      "Epoch: 4 Song 17/23, lr:0.000079, song_loss:1.111094\n",
      "Epoch: 4 Song 18/23, lr:0.000078, song_loss:1.234742\n",
      "Epoch: 4 Song 19/23, lr:0.000078, song_loss:1.089881\n",
      "Epoch: 4 Song 20/23, lr:0.000077, song_loss:1.153622\n",
      "Epoch: 4 Song 21/23, lr:0.000077, song_loss:1.160261\n",
      "Epoch: 4 Song 22/23, lr:0.000076, song_loss:0.992397\n",
      "Epoch: 4 Song 23/23, lr:0.000075, song_loss:1.356947\n",
      "\n",
      "\n",
      "Epoch:  4 val_loss:1.137055 \n",
      "\n",
      "\n",
      "Starting Epoch 5/10\n",
      "Epoch: 5 Song  1/23, lr:0.000075, song_loss:1.097317\n",
      "Epoch: 5 Song  2/23, lr:0.000074, song_loss:1.228261\n",
      "Epoch: 5 Song  3/23, lr:0.000073, song_loss:0.999015\n",
      "Epoch: 5 Song  4/23, lr:0.000073, song_loss:1.004641\n",
      "Epoch: 5 Song  5/23, lr:0.000072, song_loss:1.082536\n",
      "Epoch: 5 Song  6/23, lr:0.000071, song_loss:1.202932\n",
      "Epoch: 5 Song  7/23, lr:0.000071, song_loss:0.969731\n",
      "Epoch: 5 Song  8/23, lr:0.000070, song_loss:1.043591\n",
      "Error_df: \n",
      "               P     N   TP   TN   FP  FN   EX\n",
      "tk_beat      321   963  235  548  415  86  391\n",
      "tk_downbeat  107  1177   83  828  349  24  380\n",
      "BD_o         428   856  368  795   61  60   59\n",
      "SD_o         234  1050  179  988   62  55   38\n",
      "HH_x         124  1160  109  900  260  15  300\n",
      "at_o          35  1249   26  990  259   9  304\n",
      "ac_x         411   873  346  612  261  65  252\n",
      "Accuracy: \n",
      "tk_beat        0.609813\n",
      "tk_downbeat    0.709502\n",
      "BD_o           0.905763\n",
      "SD_o           0.908879\n",
      "HH_x           0.785826\n",
      "at_o           0.791277\n",
      "ac_x           0.746106\n",
      "dtype: float64\n",
      "F1 Score: \n",
      "tk_beat        0.484037\n",
      "tk_downbeat    0.307978\n",
      "BD_o           0.858810\n",
      "SD_o           0.753684\n",
      "HH_x           0.442191\n",
      "at_o           0.162500\n",
      "ac_x           0.679764\n",
      "dtype: float64\n",
      "Epoch: 5 Song  9/23, lr:0.000069, song_loss:1.097016\n",
      "Epoch: 5 Song 10/23, lr:0.000068, song_loss:1.334678\n",
      "Epoch: 5 Song 11/23, lr:0.000068, song_loss:1.143779\n",
      "Epoch: 5 Song 12/23, lr:0.000067, song_loss:1.144808\n",
      "Epoch: 5 Song 13/23, lr:0.000066, song_loss:1.455590\n",
      "Epoch: 5 Song 14/23, lr:0.000066, song_loss:1.060716\n",
      "Epoch: 5 Song 15/23, lr:0.000065, song_loss:1.233272\n",
      "Epoch: 5 Song 16/23, lr:0.000064, song_loss:1.097881\n",
      "Epoch: 5 Song 17/23, lr:0.000063, song_loss:1.123869\n",
      "Epoch: 5 Song 18/23, lr:0.000063, song_loss:1.303942\n",
      "Epoch: 5 Song 19/23, lr:0.000062, song_loss:1.186901\n",
      "Epoch: 5 Song 20/23, lr:0.000061, song_loss:1.297893\n",
      "Epoch: 5 Song 21/23, lr:0.000061, song_loss:0.988901\n",
      "Epoch: 5 Song 22/23, lr:0.000060, song_loss:1.066031\n",
      "Epoch: 5 Song 23/23, lr:0.000059, song_loss:1.061852\n",
      "\n",
      "\n",
      "Epoch:  5 val_loss:1.138520 \n",
      "\n",
      "\n",
      "Starting Epoch 6/10\n",
      "Epoch: 6 Song  1/23, lr:0.000058, song_loss:1.029801\n",
      "Epoch: 6 Song  2/23, lr:0.000058, song_loss:1.129453\n",
      "Epoch: 6 Song  3/23, lr:0.000057, song_loss:0.990058\n",
      "Epoch: 6 Song  4/23, lr:0.000056, song_loss:1.029663\n",
      "Epoch: 6 Song  5/23, lr:0.000055, song_loss:1.160209\n",
      "Epoch: 6 Song  6/23, lr:0.000055, song_loss:1.334195\n",
      "Epoch: 6 Song  7/23, lr:0.000054, song_loss:1.075495\n",
      "Epoch: 6 Song  8/23, lr:0.000053, song_loss:0.972099\n",
      "Epoch: 6 Song  9/23, lr:0.000052, song_loss:1.263903\n",
      "Epoch: 6 Song 10/23, lr:0.000052, song_loss:1.021655\n",
      "Epoch: 6 Song 11/23, lr:0.000051, song_loss:1.445385\n",
      "Epoch: 6 Song 12/23, lr:0.000050, song_loss:1.081280\n",
      "Epoch: 6 Song 13/23, lr:0.000049, song_loss:1.091756\n",
      "Epoch: 6 Song 14/23, lr:0.000049, song_loss:0.971008\n",
      "Epoch: 6 Song 15/23, lr:0.000048, song_loss:1.232220\n",
      "Epoch: 6 Song 16/23, lr:0.000047, song_loss:1.045923\n",
      "Epoch: 6 Song 17/23, lr:0.000046, song_loss:1.108652\n",
      "Epoch: 6 Song 18/23, lr:0.000046, song_loss:1.238707\n",
      "Epoch: 6 Song 19/23, lr:0.000045, song_loss:1.095333\n",
      "Epoch: 6 Song 20/23, lr:0.000044, song_loss:1.331632\n",
      "Epoch: 6 Song 21/23, lr:0.000043, song_loss:1.161921\n",
      "Epoch: 6 Song 22/23, lr:0.000043, song_loss:1.102014\n",
      "Epoch: 6 Song 23/23, lr:0.000042, song_loss:1.236016\n",
      "\n",
      "\n",
      "Epoch:  6 val_loss:1.132242 \n",
      "\n",
      "\n",
      "Val Error_df: \n",
      "                P     N   TP    TN    FP   FN    EX\n",
      "tk_beat      1133  3401  897  2814   587  236   648\n",
      "tk_downbeat   283  4251  223  3358   893   60  1134\n",
      "BD_o          964  3570  802  3437   133  162    89\n",
      "SD_o          661  3873  525  3776    97  136    35\n",
      "HH_x          152  4382  100  3334  1048   52  1271\n",
      "at_o          128  4406   49  3779   627   79   749\n",
      "ac_x          925  3609  729  3133   476  196   518\n",
      "Val Accuracy: \n",
      "tk_beat        0.818483\n",
      "tk_downbeat    0.789810\n",
      "BD_o           0.934936\n",
      "SD_o           0.948610\n",
      "HH_x           0.757389\n",
      "at_o           0.844288\n",
      "ac_x           0.851787\n",
      "dtype: float64\n",
      "Val F1 Score: \n",
      "tk_beat        0.685518\n",
      "tk_downbeat    0.318799\n",
      "BD_o           0.844655\n",
      "SD_o           0.818394\n",
      "HH_x           0.153846\n",
      "at_o           0.121891\n",
      "ac_x           0.684507\n",
      "dtype: float64\n",
      "Starting Epoch 7/10\n",
      "Epoch: 7 Song  1/23, lr:0.000041, song_loss:1.180233\n",
      "Epoch: 7 Song  2/23, lr:0.000040, song_loss:1.083750\n",
      "Epoch: 7 Song  3/23, lr:0.000040, song_loss:1.148736\n",
      "Epoch: 7 Song  4/23, lr:0.000039, song_loss:1.005516\n",
      "Epoch: 7 Song  5/23, lr:0.000038, song_loss:1.104366\n",
      "Epoch: 7 Song  6/23, lr:0.000038, song_loss:0.980558\n",
      "Epoch: 7 Song  7/23, lr:0.000037, song_loss:1.337342\n",
      "Epoch: 7 Song  8/23, lr:0.000036, song_loss:1.078774\n",
      "Epoch: 7 Song  9/23, lr:0.000035, song_loss:0.953169\n",
      "Epoch: 7 Song 10/23, lr:0.000035, song_loss:1.030450\n",
      "Epoch: 7 Song 11/23, lr:0.000034, song_loss:1.054141\n",
      "Epoch: 7 Song 12/23, lr:0.000033, song_loss:1.201259\n",
      "Epoch: 7 Song 13/23, lr:0.000033, song_loss:1.274254\n",
      "Epoch: 7 Song 14/23, lr:0.000032, song_loss:0.983575\n",
      "Epoch: 7 Song 15/23, lr:0.000031, song_loss:1.128277\n",
      "Epoch: 7 Song 16/23, lr:0.000030, song_loss:1.029523\n",
      "Epoch: 7 Song 17/23, lr:0.000030, song_loss:1.150120\n",
      "Epoch: 7 Song 18/23, lr:0.000029, song_loss:1.092357\n",
      "Epoch: 7 Song 19/23, lr:0.000028, song_loss:1.448434\n",
      "Epoch: 7 Song 20/23, lr:0.000028, song_loss:1.096113\n",
      "Epoch: 7 Song 21/23, lr:0.000027, song_loss:1.257900\n",
      "Epoch: 7 Song 22/23, lr:0.000026, song_loss:1.226506\n",
      "Epoch: 7 Song 23/23, lr:0.000026, song_loss:1.133606\n",
      "\n",
      "\n",
      "Epoch:  7 val_loss:1.132153 \n",
      "\n",
      "\n",
      "Starting Epoch 8/10\n",
      "Epoch: 8 Song  1/23, lr:0.000025, song_loss:1.037437\n",
      "Epoch: 8 Song  2/23, lr:0.000024, song_loss:1.090468\n",
      "Epoch: 8 Song  3/23, lr:0.000024, song_loss:0.977452\n",
      "Epoch: 8 Song  4/23, lr:0.000023, song_loss:1.323906\n",
      "Epoch: 8 Song  5/23, lr:0.000023, song_loss:1.054013\n",
      "Epoch: 8 Song  6/23, lr:0.000022, song_loss:1.092776\n",
      "Epoch: 8 Song  7/23, lr:0.000021, song_loss:1.221043\n",
      "Epoch: 8 Song  8/23, lr:0.000021, song_loss:1.187058\n",
      "Epoch: 8 Song  9/23, lr:0.000020, song_loss:1.086176\n",
      "Epoch: 8 Song 10/23, lr:0.000020, song_loss:1.257364\n",
      "Epoch: 8 Song 11/23, lr:0.000019, song_loss:1.196725\n",
      "Epoch: 8 Song 12/23, lr:0.000018, song_loss:1.170331\n",
      "Epoch: 8 Song 13/23, lr:0.000018, song_loss:1.070971\n",
      "Epoch: 8 Song 14/23, lr:0.000017, song_loss:1.413143\n",
      "Epoch: 8 Song 15/23, lr:0.000017, song_loss:1.068946\n",
      "Epoch: 8 Song 16/23, lr:0.000016, song_loss:1.108169\n",
      "Epoch: 8 Song 17/23, lr:0.000016, song_loss:0.958163\n",
      "Epoch: 8 Song 18/23, lr:0.000015, song_loss:1.085922\n",
      "Epoch: 8 Song 19/23, lr:0.000015, song_loss:0.981225\n",
      "Epoch: 8 Song 20/23, lr:0.000014, song_loss:1.267933\n",
      "Epoch: 8 Song 21/23, lr:0.000014, song_loss:1.140687\n",
      "Epoch: 8 Song 22/23, lr:0.000013, song_loss:0.993290\n",
      "Epoch: 8 Song 23/23, lr:0.000013, song_loss:1.137513\n",
      "\n",
      "\n",
      "Epoch:  8 val_loss:1.124398 \n",
      "\n",
      "\n",
      "Starting Epoch 9/10\n",
      "Epoch: 9 Song  1/23, lr:0.000012, song_loss:0.978916\n",
      "Epoch: 9 Song  2/23, lr:0.000012, song_loss:1.136064\n",
      "Epoch: 9 Song  3/23, lr:0.000011, song_loss:1.183250\n",
      "Epoch: 9 Song  4/23, lr:0.000011, song_loss:1.271218\n",
      "Epoch: 9 Song  5/23, lr:0.000010, song_loss:1.082124\n",
      "Epoch: 9 Song  6/23, lr:0.000010, song_loss:1.145785\n",
      "Epoch: 9 Song  7/23, lr:0.000009, song_loss:1.097708\n",
      "Epoch: 9 Song  8/23, lr:0.000009, song_loss:1.094883\n",
      "Epoch: 9 Song  9/23, lr:0.000009, song_loss:1.130661\n",
      "Epoch: 9 Song 10/23, lr:0.000008, song_loss:1.103357\n"
     ]
    },
    {
     "name": "stdout",
     "output_type": "stream",
     "text": [
      "Epoch: 9 Song 11/23, lr:0.000008, song_loss:1.436455\n",
      "Epoch: 9 Song 12/23, lr:0.000007, song_loss:1.326795\n",
      "Epoch: 9 Song 13/23, lr:0.000007, song_loss:1.057002\n",
      "Epoch: 9 Song 14/23, lr:0.000007, song_loss:1.032278\n",
      "Epoch: 9 Song 15/23, lr:0.000006, song_loss:1.029235\n",
      "Epoch: 9 Song 16/23, lr:0.000006, song_loss:1.258225\n",
      "Error_df: \n",
      "               P     N   TP    TN   FP   FN   EX\n",
      "tk_beat      462  1386  398  1131  255   64  241\n",
      "tk_downbeat  136  1712  125  1333  379   11  419\n",
      "BD_o         301  1547  261  1395  152   40  162\n",
      "SD_o         271  1577  193  1497   80   78   39\n",
      "HH_x         473  1375  350  1139  236  123  185\n",
      "at_o          79  1769   64  1454  315   15  365\n",
      "ac_x         218  1630  196  1309  321   22  385\n",
      "Accuracy: \n",
      "tk_beat        0.827381\n",
      "tk_downbeat    0.788961\n",
      "BD_o           0.896104\n",
      "SD_o           0.914502\n",
      "HH_x           0.805736\n",
      "at_o           0.821429\n",
      "ac_x           0.814394\n",
      "dtype: float64\n",
      "F1 Score: \n",
      "tk_beat        0.713901\n",
      "tk_downbeat    0.390625\n",
      "BD_o           0.731092\n",
      "SD_o           0.709559\n",
      "HH_x           0.661001\n",
      "at_o           0.279476\n",
      "ac_x           0.533333\n",
      "dtype: float64\n",
      "Epoch: 9 Song 17/23, lr:0.000006, song_loss:1.266378\n",
      "Epoch: 9 Song 18/23, lr:0.000005, song_loss:1.004467\n",
      "Epoch: 9 Song 19/23, lr:0.000005, song_loss:1.089811\n",
      "Epoch: 9 Song 20/23, lr:0.000005, song_loss:1.221420\n",
      "Epoch: 9 Song 21/23, lr:0.000005, song_loss:0.953514\n",
      "Epoch: 9 Song 22/23, lr:0.000004, song_loss:1.049220\n",
      "Epoch: 9 Song 23/23, lr:0.000004, song_loss:0.979660\n",
      "\n",
      "\n",
      "Epoch:  9 val_loss:1.119469 \n",
      "\n",
      "\n",
      "Starting Epoch 10/10\n",
      "Epoch:10 Song  1/23, lr:0.000004, song_loss:1.091760\n",
      "Epoch:10 Song  2/23, lr:0.000003, song_loss:1.075204\n",
      "Epoch:10 Song  3/23, lr:0.000003, song_loss:0.976589\n",
      "Epoch:10 Song  4/23, lr:0.000003, song_loss:1.089478\n",
      "Epoch:10 Song  5/23, lr:0.000003, song_loss:0.951370\n",
      "Epoch:10 Song  6/23, lr:0.000003, song_loss:1.097253\n",
      "Epoch:10 Song  7/23, lr:0.000002, song_loss:1.320713\n",
      "Epoch:10 Song  8/23, lr:0.000002, song_loss:0.993824\n",
      "Epoch:10 Song  9/23, lr:0.000002, song_loss:1.086228\n",
      "Epoch:10 Song 10/23, lr:0.000002, song_loss:1.428999\n",
      "Epoch:10 Song 11/23, lr:0.000002, song_loss:1.031612\n",
      "Epoch:10 Song 12/23, lr:0.000002, song_loss:1.140774\n",
      "Epoch:10 Song 13/23, lr:0.000002, song_loss:1.131424\n",
      "Epoch:10 Song 14/23, lr:0.000001, song_loss:1.053878\n",
      "Epoch:10 Song 15/23, lr:0.000001, song_loss:1.044365\n",
      "Epoch:10 Song 16/23, lr:0.000001, song_loss:0.978546\n",
      "Epoch:10 Song 17/23, lr:0.000001, song_loss:1.028274\n",
      "Epoch:10 Song 18/23, lr:0.000001, song_loss:1.134692\n",
      "Epoch:10 Song 19/23, lr:0.000001, song_loss:1.221639\n",
      "Epoch:10 Song 20/23, lr:0.000001, song_loss:1.274012\n",
      "Epoch:10 Song 21/23, lr:0.000001, song_loss:1.258472\n",
      "Epoch:10 Song 22/23, lr:0.000001, song_loss:1.255866\n",
      "Epoch:10 Song 23/23, lr:0.000001, song_loss:1.193626\n",
      "\n",
      "\n",
      "Epoch: 10 val_loss:1.120937 \n",
      "\n",
      "\n",
      "Congrats on making it through all training epochs!\n",
      "Saving the current drum_tabber model in memory and configs_dict to storage\n",
      "WARNING:tensorflow:From C:\\ProgramData\\Anaconda3\\lib\\site-packages\\tensorflow_core\\python\\ops\\resource_variable_ops.py:1781: calling BaseResourceVariable.__init__ (from tensorflow.python.ops.resource_variable_ops) with constraint is deprecated and will be removed in a future version.\n",
      "Instructions for updating:\n",
      "If using Keras pass *_constraint arguments to layers.\n",
      "INFO:tensorflow:Assets written to: C:/Users/Thomas/Python Projects/Drum-Tabber/models/saved_models\\Context-CNN-E10-VL1_11947\\assets\n"
     ]
    }
   ],
   "source": [
    "from train import *\n",
    "main()"
   ]
  },
  {
   "cell_type": "markdown",
   "metadata": {},
   "source": [
    "### Loading back in a saved model, configs_dict, and sample song"
   ]
  },
  {
   "cell_type": "code",
   "execution_count": 3,
   "metadata": {},
   "outputs": [
    {
     "name": "stdout",
     "output_type": "stream",
     "text": [
      "{'class_names_dict': {'0': 'tk_beat', '1': 'tk_downbeat', '2': 'BD_o', '3': 'SD_o', '4': 'HH_x', '5': 'at_o', '6': 'ac_x'}, 'num_classes': 7, 'num_features': 100, 'num_channels': 1, 'n_mels': 100, 'model_type': 'Context-CNN', 'window_size': 4096, 'fmax': 10000, 'hop_size': 441, 'shift_to_db': True, 'n_context_pre': 13, 'n_context_post': 13, 'include_fo_differential': False, 'positive_window_fraction': 0.2, 'negative_window_fraction': 0.1, 'tolerance_window': 30, 'classification_dict': {'clean_date': True, 'keep_dynamics': False, 'keep_bells': False, 'keep_toms_seperate': False, 'hihat_classes': 1, 'cymbal_classes': 1}, 'month_date': '-Nov-21'}\n"
     ]
    }
   ],
   "source": [
    "# load a model back in \n",
    "model_to_load_name = 'Context-CNN-E10-VL1_11947'\n",
    "loaded_model, loaded_configs = load_drum_tabber_model(model_to_load_name, SAVED_MODELS_PATH)\n",
    "print(loaded_configs)"
   ]
  },
  {
   "cell_type": "code",
   "execution_count": 4,
   "metadata": {
    "scrolled": true
   },
   "outputs": [
    {
     "name": "stderr",
     "output_type": "stream",
     "text": [
      "C:\\ProgramData\\Anaconda3\\lib\\site-packages\\librosa\\core\\audio.py:161: UserWarning: PySoundFile failed. Trying audioread instead.\n",
      "  warnings.warn('PySoundFile failed. Trying audioread instead.')\n"
     ]
    },
    {
     "name": "stdout",
     "output_type": "stream",
     "text": [
      "Number of samples in song is 11265408\n",
      "spectrogram shape is (100, 25536)\n"
     ]
    }
   ],
   "source": [
    "# load sample song and make spectrogram\n",
    "song_to_test = 'four_years'\n",
    "samp_song, sr_song = lb.core.load(os.path.join(SONGS_PATH,song_to_test,song_to_test+'.mp3'), sr=None, mono=True)\n",
    "print(f'Number of samples in song is {samp_song.shape[0]}')\n",
    "spectro = lb.feature.melspectrogram(np.asfortranarray(samp_song), sr = sr_song, n_fft=loaded_configs['window_size'], hop_length = loaded_configs['hop_size'], center = False, n_mels = loaded_configs['n_mels'], fmax= loaded_configs['fmax'])\n",
    "if loaded_configs['shift_to_db']:\n",
    "    spectro = lb.power_to_db(spectro, ref = np.max)\n",
    "spectro_norm = (spectro - spectro.mean())/spectro.std()\n",
    "spectrogram = spectro_norm.copy()\n",
    "n_features, n_windows = spectrogram.shape\n",
    "print(f'spectrogram shape is {spectrogram.shape}')\n",
    "if loaded_configs['model_type'] == 'Context-CNN':\n",
    "\n",
    "    pre_context, post_context = loaded_configs['n_context_pre'], loaded_configs['n_context_post']\n",
    "    input_width = pre_context + 1 + post_context\n",
    "    min_value = np.min(spectrogram)\n",
    "\n",
    "    # assign into this np.array filled with the min values of the spectrogram (silence)\n",
    "    input_array = np.full(shape = (n_windows, n_features, input_width), fill_value = min_value)\n",
    "\n",
    "    for idx in range(n_windows):\n",
    "        if idx - pre_context < 0:    # in a window where you would slice before the beginning\n",
    "            start = pre_context-idx\n",
    "            input_array[idx, :, start:] = spectrogram[:, 0:idx+post_context+1]\n",
    "        elif idx + post_context+1 > n_windows: # in a window where you would slice past the end\n",
    "            end = post_context+1 - (n_windows - idx)\n",
    "            input_array[idx, :, :input_width-end] = spectrogram[:, idx-pre_context: n_windows ]\n",
    "        else:    # in a \"normal\" middle window where you slice into the spectrogram normally\n",
    "            input_array[idx, :,:] = spectrogram[:, idx-pre_context : idx+post_context+1]"
   ]
  },
  {
   "cell_type": "code",
   "execution_count": 5,
   "metadata": {},
   "outputs": [
    {
     "name": "stdout",
     "output_type": "stream",
     "text": [
      "Wall time: 26.2 s\n",
      "(4096, 7)\n"
     ]
    }
   ],
   "source": [
    "# making predictions on the sample song\n",
    "start_ind = 0\n",
    "end_ind = start_ind + 4096\n",
    "%time predictions = loaded_model(np.expand_dims(input_array,axis=-1)[start_ind:end_ind,:,:,:], training=False)\n",
    "print(predictions.shape)"
   ]
  },
  {
   "cell_type": "code",
   "execution_count": 6,
   "metadata": {},
   "outputs": [
    {
     "data": {
      "text/plain": [
       "(4096, 7)"
      ]
     },
     "execution_count": 6,
     "metadata": {},
     "output_type": "execute_result"
    }
   ],
   "source": [
    "predictions.numpy().shape"
   ]
  },
  {
   "cell_type": "code",
   "execution_count": 13,
   "metadata": {},
   "outputs": [
    {
     "name": "stdout",
     "output_type": "stream",
     "text": [
      "[ 11  22  82  92 129 198 246 293 374 409 444 480]\n"
     ]
    },
    {
     "data": {
      "text/plain": [
       "[<matplotlib.lines.Line2D at 0x2438026e988>]"
      ]
     },
     "execution_count": 13,
     "metadata": {},
     "output_type": "execute_result"
    },
    {
     "data": {
      "image/png": "[encoded data removed]",
      "text/plain": [
       "<Figure size 1440x720 with 1 Axes>"
      ]
     },
     "metadata": {
      "needs_background": "light"
     },
     "output_type": "display_data"
    }
   ],
   "source": [
    "idx = 2 # {0:tk_beat, 1:tk_downbeat, 2:BD_o, 3:SD_o, 4:HH_x, 5:at_o, 6:ac_x}\n",
    "diff_samples = 500\n",
    "start = 1000\n",
    "end = start + diff_samples\n",
    "pred = predictions[start:end,idx].numpy()\n",
    "pred_peaks = np.zeros(shape = pred.shape)\n",
    "\n",
    "pred_peaks_idx = lb.util.peak_pick(x = pred, pre_max = 2, post_max = 2, pre_avg = 20, post_avg = 20, \n",
    "                              delta = 0.5, wait = 5)\n",
    "print(pred_peaks_idx)\n",
    "pred_peaks[pred_peaks_idx] = 0.95\n",
    "\n",
    "# making a plot to output\n",
    "plt.rcParams[\"figure.figsize\"]=20,10\n",
    "fig = plt.figure()\n",
    "ax = fig.add_axes([0,0,1,1])\n",
    "ax.plot(pred)\n",
    "ax.plot(pred_peaks)\n",
    "#ax.vlines(pred_peaks_idx, ymin=0, ymax=1, colors='r', alpha=0.8)\n"
   ]
  },
  {
   "cell_type": "code",
   "execution_count": 16,
   "metadata": {
    "scrolled": false
   },
   "outputs": [
    {
     "data": {
      "image/png": "[encoded data removed]",
      "text/plain": [
       "<Figure size 432x288 with 1 Axes>"
      ]
     },
     "metadata": {
      "needs_background": "light"
     },
     "output_type": "display_data"
    }
   ],
   "source": [
    "_ = plt.hist(spectrogram.flatten(), bins='auto')\n",
    "plt.show()"
   ]
  },
  {
   "cell_type": "code",
   "execution_count": null,
   "metadata": {},
   "outputs": [],
   "source": [
    "plt.hist(lb.feature.delta(data = normed_fy, width=9, order=1, axis=-1).flatten(), bins='auto')"
   ]
  },
  {
   "cell_type": "code",
   "execution_count": null,
   "metadata": {
    "scrolled": true
   },
   "outputs": [],
   "source": [
    "fy_ftd = lb.feature.delta(data = fy, width=9, order = 1, axis=-1)\n",
    "_ = plt.hist(fy_ftd.flatten(), bins='auto')\n",
    "plt.show()"
   ]
  },
  {
   "cell_type": "code",
   "execution_count": 334,
   "metadata": {},
   "outputs": [],
   "source": [
    "class_names = [x for x in list(encode_df.columns) if '_' in x]\n",
    "error_metrics_names = ['P', 'N', 'TP', 'FP', 'TN', 'FN']\n",
    "error_df = pd.DataFrame(0, index=class_names, columns=error_metrics_names)"
   ]
  },
  {
   "cell_type": "code",
   "execution_count": 335,
   "metadata": {},
   "outputs": [
    {
     "name": "stdout",
     "output_type": "stream",
     "text": [
      "             P  N  TP  FP  TN  FN\n",
      "tk_beat      0  0   0   0   0   0\n",
      "tk_downbeat  0  0   0   0   0   0\n",
      "BD_o         0  0   0   0   0   0\n",
      "SD_o         0  0   0   0   0   0\n",
      "HH_x         0  0   0   0   0   0\n",
      "at_o         0  0   0   0   0   0\n",
      "ac_x         0  0   0   0   0   0\n"
     ]
    }
   ],
   "source": [
    "print(error_df)"
   ]
  },
  {
   "cell_type": "code",
   "execution_count": 301,
   "metadata": {},
   "outputs": [
    {
     "name": "stdout",
     "output_type": "stream",
     "text": [
      "             P  N  TP  FP  TN  FN\n",
      "tk_beat      0  0   0   0   0   0\n",
      "tk_downbeat  1  0   0   0   0   0\n",
      "BD_o         0  0   0   0   0   0\n",
      "SD_o         0  0   0   0   0   0\n",
      "HH_x         0  0   0   0   0   0\n",
      "at_o         0  0   0   0   0   0\n",
      "ac_x         0  0   0   0   0   0\n"
     ]
    }
   ],
   "source": [
    "error_df.at['tk_downbeat','P'] += 1\n",
    "print(error_df)"
   ]
  },
  {
   "cell_type": "code",
   "execution_count": 302,
   "metadata": {},
   "outputs": [
    {
     "name": "stdout",
     "output_type": "stream",
     "text": [
      "14\n"
     ]
    }
   ],
   "source": [
    "sample_starts = np.array([0, 12, 24, 37, 39, 62, 89, 104, 132, 160, 190, 220, 250, 280])\n",
    "print(len(sample_starts))"
   ]
  },
  {
   "cell_type": "code",
   "execution_count": 317,
   "metadata": {
    "scrolled": true
   },
   "outputs": [
    {
     "name": "stdout",
     "output_type": "stream",
     "text": [
      "[[0 0 1 0 0 0 0]\n",
      " [1 0 0 0 0 0 0]\n",
      " [0 0 0 0 0 0 0]\n",
      " [0 0 0 0 1 0 0]\n",
      " [0 0 0 0 0 0 0]\n",
      " [0 0 0 1 0 1 0]\n",
      " [0 0 0 0 0 0 0]\n",
      " [0 0 0 0 1 0 0]\n",
      " [0 0 1 0 0 0 0]\n",
      " [1 0 0 0 1 0 0]\n",
      " [1 0 0 0 0 0 0]\n",
      " [0 1 0 0 0 0 0]\n",
      " [1 0 0 0 0 0 0]\n",
      " [0 0 0 0 0 0 0]\n",
      " [0 0 0 0 0 0 0]\n",
      " [0 0 1 0 0 0 0]\n",
      " [0 0 0 0 0 0 1]\n",
      " [0 0 0 0 1 0 0]\n",
      " [0 0 0 1 0 0 1]\n",
      " [0 0 0 0 0 0 0]\n",
      " [0 0 0 0 0 1 0]\n",
      " [0 0 0 0 0 0 0]\n",
      " [0 0 0 0 0 0 0]\n",
      " [1 0 0 0 1 0 0]\n",
      " [1 0 0 0 0 0 0]\n",
      " [1 0 0 0 1 0 0]\n",
      " [0 0 0 0 0 0 0]\n",
      " [0 0 0 0 0 0 0]\n",
      " [0 0 0 0 0 0 0]\n",
      " [0 0 0 0 0 0 0]\n",
      " [0 0 0 1 0 0 0]\n",
      " [0 0 0 1 0 0 0]\n",
      " [0 0 0 0 0 0 0]\n",
      " [0 0 0 0 1 0 0]\n",
      " [1 0 0 0 0 0 0]\n",
      " [0 0 0 0 0 1 0]\n",
      " [0 0 0 0 0 0 0]\n",
      " [0 0 0 0 0 1 0]\n",
      " [0 0 0 0 0 0 0]\n",
      " [0 0 0 0 0 0 0]\n",
      " [0 0 1 0 0 0 0]\n",
      " [0 0 0 0 0 0 0]\n",
      " [0 0 0 0 0 0 0]\n",
      " [0 1 0 0 0 0 0]\n",
      " [1 0 0 0 0 0 0]\n",
      " [0 0 0 0 0 0 0]\n",
      " [1 1 0 0 0 0 1]\n",
      " [0 0 0 0 0 0 0]\n",
      " [0 0 0 0 0 0 0]\n",
      " [0 0 0 0 0 0 0]\n",
      " [0 0 0 0 0 0 0]\n",
      " [0 0 0 0 1 0 0]\n",
      " [0 1 0 0 0 0 0]\n",
      " [0 0 1 0 0 0 0]\n",
      " [0 0 0 0 0 0 0]\n",
      " [0 0 0 1 0 0 0]\n",
      " [0 0 0 0 0 0 0]\n",
      " [0 0 0 0 1 0 0]\n",
      " [0 0 0 0 0 0 0]\n",
      " [0 0 0 0 0 0 0]\n",
      " [0 0 0 0 0 0 0]\n",
      " [0 0 0 0 0 0 0]\n",
      " [0 0 0 0 0 0 0]\n",
      " [0 0 0 0 0 0 0]\n",
      " [0 0 0 0 0 0 1]\n",
      " [0 0 0 0 0 0 0]\n",
      " [0 0 0 0 0 0 0]\n",
      " [0 0 0 1 0 0 0]\n",
      " [0 0 0 0 0 0 0]\n",
      " [0 0 0 0 0 0 0]\n",
      " [0 1 0 0 0 0 0]\n",
      " [0 0 0 0 0 0 0]\n",
      " [0 0 0 0 0 0 1]\n",
      " [0 0 0 1 0 0 0]\n",
      " [0 0 0 0 0 0 0]\n",
      " [1 0 0 0 0 0 0]\n",
      " [0 0 0 0 0 0 0]\n",
      " [0 0 0 0 0 0 0]\n",
      " [0 0 0 0 0 0 0]\n",
      " [0 0 0 1 0 0 0]\n",
      " [0 0 0 0 0 0 0]\n",
      " [0 0 0 1 0 0 0]\n",
      " [0 0 0 0 0 0 0]\n",
      " [0 0 0 0 0 1 0]\n",
      " [0 0 0 0 0 0 0]\n",
      " [0 0 1 0 0 0 0]\n",
      " [0 0 0 0 0 0 0]\n",
      " [0 1 0 1 0 0 0]\n",
      " [1 0 0 1 0 0 0]\n",
      " [0 1 0 0 0 0 1]\n",
      " [0 0 0 0 0 0 0]\n",
      " [0 0 1 0 0 0 0]\n",
      " [0 0 0 0 1 0 1]\n",
      " [0 0 0 0 0 0 0]\n",
      " [0 0 0 0 0 0 0]\n",
      " [0 0 0 0 0 1 0]\n",
      " [0 1 0 0 0 0 1]\n",
      " [0 0 0 0 0 0 1]\n",
      " [0 0 0 0 0 0 0]\n",
      " [0 0 0 1 0 0 0]]\n"
     ]
    }
   ],
   "source": [
    "frame_starts = np.array([3*idx for idx in range(100)])\n",
    "peaks = np.array(np.random.rand(100,len(class_names)) > 0.9, dtype=int)\n",
    "print(peaks)"
   ]
  },
  {
   "cell_type": "code",
   "execution_count": 318,
   "metadata": {
    "scrolled": true
   },
   "outputs": [
    {
     "name": "stdout",
     "output_type": "stream",
     "text": [
      "[ True  True  True  True  True  True  True False False False False False\n",
      " False False False False False False False False False False False False\n",
      " False False False False False False False False False False False False\n",
      " False False False False False False False False False False False False\n",
      " False False False False False False False False False False False False\n",
      " False False False False False False False False False False False False\n",
      " False False False False False False False False False False False False\n",
      " False False False False False False False False False False False False\n",
      " False False False False]\n",
      "[ True  True  True  True  True  True  True  True  True  True  True False\n",
      " False False False False False False False False False False False False\n",
      " False False False False False False False False False False False False\n",
      " False False False False False False False False False False False False\n",
      " False False False False False False False False False False False False\n",
      " False False False False False False False False False False False False\n",
      " False False False False False False False False False False False False\n",
      " False False False False False False False False False False False False\n",
      " False False False False]\n",
      "[False False  True  True  True  True  True  True  True  True  True  True\n",
      "  True  True  True False False False False False False False False False\n",
      " False False False False False False False False False False False False\n",
      " False False False False False False False False False False False False\n",
      " False False False False False False False False False False False False\n",
      " False False False False False False False False False False False False\n",
      " False False False False False False False False False False False False\n",
      " False False False False False False False False False False False False\n",
      " False False False False]\n",
      "[False False False False False False  True  True  True  True  True  True\n",
      "  True  True  True  True  True  True  True  True False False False False\n",
      " False False False False False False False False False False False False\n",
      " False False False False False False False False False False False False\n",
      " False False False False False False False False False False False False\n",
      " False False False False False False False False False False False False\n",
      " False False False False False False False False False False False False\n",
      " False False False False False False False False False False False False\n",
      " False False False False]\n",
      "[False False False False False False False  True  True  True  True  True\n",
      "  True  True  True  True  True  True  True  True False False False False\n",
      " False False False False False False False False False False False False\n",
      " False False False False False False False False False False False False\n",
      " False False False False False False False False False False False False\n",
      " False False False False False False False False False False False False\n",
      " False False False False False False False False False False False False\n",
      " False False False False False False False False False False False False\n",
      " False False False False]\n",
      "[False False False False False False False False False False False False\n",
      " False False  True  True  True  True  True  True  True  True  True  True\n",
      "  True  True  True  True False False False False False False False False\n",
      " False False False False False False False False False False False False\n",
      " False False False False False False False False False False False False\n",
      " False False False False False False False False False False False False\n",
      " False False False False False False False False False False False False\n",
      " False False False False False False False False False False False False\n",
      " False False False False]\n",
      "[False False False False False False False False False False False False\n",
      " False False False False False False False False False False False  True\n",
      "  True  True  True  True  True  True  True  True  True  True  True  True\n",
      "  True False False False False False False False False False False False\n",
      " False False False False False False False False False False False False\n",
      " False False False False False False False False False False False False\n",
      " False False False False False False False False False False False False\n",
      " False False False False False False False False False False False False\n",
      " False False False False]\n",
      "[False False False False False False False False False False False False\n",
      " False False False False False False False False False False False False\n",
      " False False False False  True  True  True  True  True  True  True  True\n",
      "  True  True  True  True  True  True False False False False False False\n",
      " False False False False False False False False False False False False\n",
      " False False False False False False False False False False False False\n",
      " False False False False False False False False False False False False\n",
      " False False False False False False False False False False False False\n",
      " False False False False]\n",
      "[False False False False False False False False False False False False\n",
      " False False False False False False False False False False False False\n",
      " False False False False False False False False False False False False\n",
      " False False  True  True  True  True  True  True  True  True  True  True\n",
      "  True  True  True False False False False False False False False False\n",
      " False False False False False False False False False False False False\n",
      " False False False False False False False False False False False False\n",
      " False False False False False False False False False False False False\n",
      " False False False False]\n",
      "[False False False False False False False False False False False False\n",
      " False False False False False False False False False False False False\n",
      " False False False False False False False False False False False False\n",
      " False False False False False False False False False False False  True\n",
      "  True  True  True  True  True  True  True  True  True  True  True  True\n",
      "  True False False False False False False False False False False False\n",
      " False False False False False False False False False False False False\n",
      " False False False False False False False False False False False False\n",
      " False False False False]\n",
      "[False False False False False False False False False False False False\n",
      " False False False False False False False False False False False False\n",
      " False False False False False False False False False False False False\n",
      " False False False False False False False False False False False False\n",
      " False False False False False False False False False  True  True  True\n",
      "  True  True  True  True  True  True  True  True  True  True  True False\n",
      " False False False False False False False False False False False False\n",
      " False False False False False False False False False False False False\n",
      " False False False False]\n",
      "[False False False False False False False False False False False False\n",
      " False False False False False False False False False False False False\n",
      " False False False False False False False False False False False False\n",
      " False False False False False False False False False False False False\n",
      " False False False False False False False False False False False False\n",
      " False False False False False False False  True  True  True  True  True\n",
      "  True  True  True  True  True  True  True  True  True False False False\n",
      " False False False False False False False False False False False False\n",
      " False False False False]\n",
      "[False False False False False False False False False False False False\n",
      " False False False False False False False False False False False False\n",
      " False False False False False False False False False False False False\n",
      " False False False False False False False False False False False False\n",
      " False False False False False False False False False False False False\n",
      " False False False False False False False False False False False False\n",
      " False False False False False  True  True  True  True  True  True  True\n",
      "  True  True  True  True  True  True  True False False False False False\n",
      " False False False False]\n",
      "[False False False False False False False False False False False False\n",
      " False False False False False False False False False False False False\n",
      " False False False False False False False False False False False False\n",
      " False False False False False False False False False False False False\n",
      " False False False False False False False False False False False False\n",
      " False False False False False False False False False False False False\n",
      " False False False False False False False False False False False False\n",
      " False False False  True  True  True  True  True  True  True  True  True\n",
      "  True  True  True  True]\n"
     ]
    }
   ],
   "source": [
    "for num in sample_starts: \n",
    "    bool_mask = ((num-20) <= frame_starts) & (frame_starts <= (num + 20))\n",
    "    print(bool_mask)"
   ]
  },
  {
   "cell_type": "code",
   "execution_count": 319,
   "metadata": {},
   "outputs": [],
   "source": [
    "full_bool_mask = np.stack([((num-5) <= frame_starts) & (frame_starts <= (num + 5)) for num in sample_starts], axis=0)"
   ]
  },
  {
   "cell_type": "code",
   "execution_count": 320,
   "metadata": {
    "scrolled": true
   },
   "outputs": [
    {
     "data": {
      "text/plain": [
       "(14, 100)"
      ]
     },
     "execution_count": 320,
     "metadata": {},
     "output_type": "execute_result"
    }
   ],
   "source": [
    "full_bool_mask.shape   # num_rows_in_df, n_frames"
   ]
  },
  {
   "cell_type": "code",
   "execution_count": 380,
   "metadata": {},
   "outputs": [
    {
     "name": "stdout",
     "output_type": "stream",
     "text": [
      "(2, 7)\n",
      "[[0 0 1 0 0 0 0]\n",
      " [1 0 0 0 0 0 0]]\n",
      "bool peak [ True False  True False False False False]\n",
      "~bool peak [False  True False  True  True  True  True]\n",
      "[1 0 1 1 1 1 0]\n",
      "[0 0 0 1 1 1 0]\n",
      "(3, 7)\n",
      "[[0 0 0 0 1 0 0]\n",
      " [0 0 0 0 0 0 0]\n",
      " [0 0 0 1 0 1 0]]\n",
      "bool peak [False False False  True  True  True False]\n",
      "~bool peak [ True  True  True False False False  True]\n",
      "[1 1 1 0 0 0 1]\n",
      "[1 1 1 1 1 1 1]\n",
      "(3, 7)\n",
      "[[0 0 0 0 1 0 0]\n",
      " [0 0 1 0 0 0 0]\n",
      " [1 0 0 0 1 0 0]]\n",
      "bool peak [ True False  True False  True False False]\n",
      "~bool peak [False  True False  True False  True  True]\n",
      "[0 1 0 1 1 1 1]\n",
      "[1 1 1 1 0 1 1]\n",
      "(4, 7)\n",
      "[[0 1 0 0 0 0 0]\n",
      " [1 0 0 0 0 0 0]\n",
      " [0 0 0 0 0 0 0]\n",
      " [0 0 0 0 0 0 0]]\n",
      "bool peak [ True  True False False False False False]\n",
      "~bool peak [False False  True  True  True  True  True]\n",
      "[0 0 1 1 1 1 1]\n",
      "[1 1 1 1 1 1 1]\n",
      "(3, 7)\n",
      "[[1 0 0 0 0 0 0]\n",
      " [0 0 0 0 0 0 0]\n",
      " [0 0 0 0 0 0 0]]\n",
      "bool peak [ True False False False False False False]\n",
      "~bool peak [False  True  True  True  True  True  True]\n",
      "[1 1 1 1 0 1 1]\n",
      "[0 1 1 1 0 1 1]\n",
      "(4, 7)\n",
      "[[0 0 0 0 0 0 0]\n",
      " [0 0 0 0 0 1 0]\n",
      " [0 0 0 0 0 0 0]\n",
      " [0 0 0 0 0 0 0]]\n",
      "bool peak [False False False False False  True False]\n",
      "~bool peak [ True  True  True  True  True False  True]\n",
      "[1 1 1 1 1 0 1]\n",
      "[1 1 1 1 1 1 1]\n",
      "(4, 7)\n",
      "[[0 0 0 0 0 0 0]\n",
      " [0 0 0 0 0 0 0]\n",
      " [0 0 0 1 0 0 0]\n",
      " [0 0 0 1 0 0 0]]\n",
      "bool peak [False False False  True False False False]\n",
      "~bool peak [ True  True  True False  True  True  True]\n",
      "[1 1 0 0 1 1 1]\n",
      "[1 1 0 1 1 1 1]\n",
      "(4, 7)\n",
      "[[0 0 0 0 1 0 0]\n",
      " [1 0 0 0 0 0 0]\n",
      " [0 0 0 0 0 1 0]\n",
      " [0 0 0 0 0 0 0]]\n",
      "bool peak [ True False False False  True  True False]\n",
      "~bool peak [False  True  True  True False False  True]\n",
      "[0 1 1 1 0 0 1]\n",
      "[1 1 1 1 1 1 1]\n",
      "(3, 7)\n",
      "[[0 1 0 0 0 0 0]\n",
      " [1 0 0 0 0 0 0]\n",
      " [0 0 0 0 0 0 0]]\n",
      "bool peak [ True  True False False False False False]\n",
      "~bool peak [False False  True  True  True  True  True]\n",
      "[1 0 1 0 1 1 1]\n",
      "[0 1 1 0 1 1 1]\n",
      "(4, 7)\n",
      "[[0 1 0 0 0 0 0]\n",
      " [0 0 1 0 0 0 0]\n",
      " [0 0 0 0 0 0 0]\n",
      " [0 0 0 1 0 0 0]]\n",
      "bool peak [False  True  True  True False False False]\n",
      "~bool peak [ True False False False  True  True  True]\n",
      "[1 0 0 0 1 1 1]\n",
      "[1 1 1 1 1 1 1]\n",
      "(4, 7)\n",
      "[[0 0 0 0 0 0 0]\n",
      " [0 0 0 0 0 0 0]\n",
      " [0 0 0 0 0 0 1]\n",
      " [0 0 0 0 0 0 0]]\n",
      "bool peak [False False False False False False  True]\n",
      "~bool peak [ True  True  True  True  True  True False]\n",
      "[1 1 0 1 1 1 0]\n",
      "[1 1 0 1 1 1 1]\n",
      "(4, 7)\n",
      "[[0 0 0 0 0 0 1]\n",
      " [0 0 0 1 0 0 0]\n",
      " [0 0 0 0 0 0 0]\n",
      " [1 0 0 0 0 0 0]]\n",
      "bool peak [ True False False  True False False  True]\n",
      "~bool peak [False  True  True False  True  True False]\n",
      "[0 1 1 0 1 1 0]\n",
      "[1 1 1 1 1 1 1]\n",
      "(4, 7)\n",
      "[[0 0 0 0 0 0 0]\n",
      " [0 0 0 0 0 1 0]\n",
      " [0 0 0 0 0 0 0]\n",
      " [0 0 1 0 0 0 0]]\n",
      "bool peak [False False  True False False  True False]\n",
      "~bool peak [ True  True False  True  True False  True]\n",
      "[0 1 0 1 0 0 1]\n",
      "[0 1 1 1 0 1 1]\n",
      "(4, 7)\n",
      "[[0 0 0 0 1 0 1]\n",
      " [0 0 0 0 0 0 0]\n",
      " [0 0 0 0 0 0 0]\n",
      " [0 0 0 0 0 1 0]]\n",
      "bool peak [False False False False  True  True  True]\n",
      "~bool peak [ True  True  True  True False False False]\n",
      "[1 1 1 1 0 0 0]\n",
      "[1 1 1 1 1 1 1]\n"
     ]
    }
   ],
   "source": [
    "for idx in range(full_bool_mask.shape[0]):\n",
    "    peaks_to_compare = peaks[full_bool_mask[idx,:],:]\n",
    "    print(peaks_to_compare.shape)\n",
    "    print(peaks_to_compare)\n",
    "    bool_peak_in_frames_per_class = np.any(peaks_to_compare==1, axis=0)\n",
    "    print('bool peak', bool_peak_in_frames_per_class)\n",
    "    print('~bool peak', ~bool_peak_in_frames_per_class)\n",
    "    print(np.array(labels[idx,:]==1 & bool_peak_in_frames_per_class, dtype=int))\n",
    "    print(np.array(labels[idx,:]==0 & ~bool_peak_in_frames_per_class, dtype=int))\n",
    "    '''\n",
    "    for class_idx, names in enumerate(class_names):\n",
    "        this_class = peaks_to_compare[:,class_idx]\n",
    "        print(this_class)\n",
    "    '''\n",
    "        "
   ]
  },
  {
   "cell_type": "code",
   "execution_count": 248,
   "metadata": {},
   "outputs": [],
   "source": [
    "encode_df = encode_df.drop(columns = ['song slice'])"
   ]
  },
  {
   "cell_type": "code",
   "execution_count": 249,
   "metadata": {},
   "outputs": [
    {
     "data": {
      "text/html": [
       "<div>\n",
       "<style scoped>\n",
       "    .dataframe tbody tr th:only-of-type {\n",
       "        vertical-align: middle;\n",
       "    }\n",
       "\n",
       "    .dataframe tbody tr th {\n",
       "        vertical-align: top;\n",
       "    }\n",
       "\n",
       "    .dataframe thead th {\n",
       "        text-align: right;\n",
       "    }\n",
       "</style>\n",
       "<table border=\"1\" class=\"dataframe\">\n",
       "  <thead>\n",
       "    <tr style=\"text-align: right;\">\n",
       "      <th></th>\n",
       "      <th>sample start</th>\n",
       "      <th>tk_beat</th>\n",
       "      <th>tk_downbeat</th>\n",
       "      <th>BD_o</th>\n",
       "      <th>SD_o</th>\n",
       "      <th>HH_x</th>\n",
       "      <th>at_o</th>\n",
       "      <th>ac_x</th>\n",
       "    </tr>\n",
       "  </thead>\n",
       "  <tbody>\n",
       "    <tr>\n",
       "      <th>0</th>\n",
       "      <td>15611</td>\n",
       "      <td>1</td>\n",
       "      <td>1</td>\n",
       "      <td>1</td>\n",
       "      <td>0</td>\n",
       "      <td>0</td>\n",
       "      <td>0</td>\n",
       "      <td>1</td>\n",
       "    </tr>\n",
       "    <tr>\n",
       "      <th>1</th>\n",
       "      <td>19056</td>\n",
       "      <td>0</td>\n",
       "      <td>0</td>\n",
       "      <td>0</td>\n",
       "      <td>0</td>\n",
       "      <td>0</td>\n",
       "      <td>0</td>\n",
       "      <td>0</td>\n",
       "    </tr>\n",
       "    <tr>\n",
       "      <th>2</th>\n",
       "      <td>22501</td>\n",
       "      <td>0</td>\n",
       "      <td>0</td>\n",
       "      <td>0</td>\n",
       "      <td>0</td>\n",
       "      <td>1</td>\n",
       "      <td>0</td>\n",
       "      <td>0</td>\n",
       "    </tr>\n",
       "    <tr>\n",
       "      <th>3</th>\n",
       "      <td>25946</td>\n",
       "      <td>0</td>\n",
       "      <td>0</td>\n",
       "      <td>0</td>\n",
       "      <td>0</td>\n",
       "      <td>0</td>\n",
       "      <td>0</td>\n",
       "      <td>0</td>\n",
       "    </tr>\n",
       "    <tr>\n",
       "      <th>4</th>\n",
       "      <td>29391</td>\n",
       "      <td>1</td>\n",
       "      <td>0</td>\n",
       "      <td>0</td>\n",
       "      <td>0</td>\n",
       "      <td>1</td>\n",
       "      <td>0</td>\n",
       "      <td>0</td>\n",
       "    </tr>\n",
       "  </tbody>\n",
       "</table>\n",
       "</div>"
      ],
      "text/plain": [
       "   sample start  tk_beat  tk_downbeat  BD_o  SD_o  HH_x  at_o  ac_x\n",
       "0         15611        1            1     1     0     0     0     1\n",
       "1         19056        0            0     0     0     0     0     0\n",
       "2         22501        0            0     0     0     1     0     0\n",
       "3         25946        0            0     0     0     0     0     0\n",
       "4         29391        1            0     0     0     1     0     0"
      ]
     },
     "execution_count": 249,
     "metadata": {},
     "output_type": "execute_result"
    }
   ],
   "source": [
    "encode_df.head()"
   ]
  },
  {
   "cell_type": "code",
   "execution_count": 250,
   "metadata": {},
   "outputs": [],
   "source": [
    "class_names = [x for x in list(encode_df.columns) if '_' in x]"
   ]
  },
  {
   "cell_type": "code",
   "execution_count": 337,
   "metadata": {},
   "outputs": [
    {
     "name": "stdout",
     "output_type": "stream",
     "text": [
      "[1 1 1 0 0 0 1]\n"
     ]
    }
   ],
   "source": [
    "labels = encode_df[class_names].to_numpy()\n",
    "print(labels[0,:])"
   ]
  },
  {
   "cell_type": "code",
   "execution_count": 351,
   "metadata": {
    "scrolled": false
   },
   "outputs": [
    {
     "name": "stdout",
     "output_type": "stream",
     "text": [
      "[484 121 455 227 170 166 297]\n",
      "[1452 1815 1481 1709 1766 1770 1639]\n",
      "[1936 1936 1936 1936 1936 1936 1936]\n"
     ]
    }
   ],
   "source": [
    "P = np.sum(labels==1, axis=0)\n",
    "N = np.sum(labels==0, axis=0)\n",
    "print(P)\n",
    "print(N)"
   ]
  },
  {
   "cell_type": "code",
   "execution_count": 359,
   "metadata": {
    "scrolled": true
   },
   "outputs": [
    {
     "name": "stdout",
     "output_type": "stream",
     "text": [
      "tk_beat        1452\n",
      "tk_downbeat    1815\n",
      "BD_o           1481\n",
      "SD_o           1709\n",
      "HH_x           1766\n",
      "at_o           1770\n",
      "ac_x           1639\n",
      "Name: P, dtype: int32\n",
      "               P     N  TP  FP  TN  FN\n",
      "tk_beat      484  1452   0   0   0   0\n",
      "tk_downbeat  121  1815   0   0   0   0\n",
      "BD_o         455  1481   0   0   0   0\n",
      "SD_o         227  1709   0   0   0   0\n",
      "HH_x         170  1766   0   0   0   0\n",
      "at_o         166  1770   0   0   0   0\n",
      "ac_x         297  1639   0   0   0   0\n"
     ]
    }
   ],
   "source": [
    "print(error_df['P'])\n",
    "error_df['P'] = P\n",
    "error_df['N'] = N\n",
    "print(error_df)"
   ]
  },
  {
   "cell_type": "code",
   "execution_count": 385,
   "metadata": {},
   "outputs": [
    {
     "name": "stdout",
     "output_type": "stream",
     "text": [
      "               P     N  TP  FP  TN  FN\n",
      "tk_beat      484  1452   0   0   0   0\n",
      "tk_downbeat  121  1815   4   0   0   0\n",
      "BD_o         455  1481   4   0   0   0\n",
      "SD_o         227  1709   0   0   0   0\n",
      "HH_x         170  1766   4   0   0   0\n",
      "at_o         166  1770   0   0   0   0\n",
      "ac_x         297  1639   0   0   0   0\n"
     ]
    }
   ],
   "source": [
    "error_df['TP'] += np.array([False, True, True, False, True, False, False])\n",
    "print(error_df)"
   ]
  },
  {
   "cell_type": "code",
   "execution_count": 389,
   "metadata": {},
   "outputs": [
    {
     "name": "stdout",
     "output_type": "stream",
     "text": [
      "               P     N  TP  FP  TN  FN\n",
      "tk_beat      484  1452   0   0   0   0\n",
      "tk_downbeat  121  1815   4   0   0   0\n",
      "BD_o         455  1481   4   0   0   0\n",
      "SD_o         227  1709   0   0   0   0\n",
      "HH_x         170  1766   4   0   0   0\n",
      "at_o         166  1770   0   0   0   0\n",
      "ac_x         297  1639   0   0   0   0\n"
     ]
    }
   ],
   "source": [
    "error_df_list = [error_df, error_df, error_df]\n",
    "true_error_df = error_df_list[0].copy()\n",
    "print(true_error_df)"
   ]
  },
  {
   "cell_type": "code",
   "execution_count": 392,
   "metadata": {},
   "outputs": [],
   "source": [
    "final_error_df = sum(error_df_list).copy()"
   ]
  },
  {
   "cell_type": "code",
   "execution_count": 393,
   "metadata": {},
   "outputs": [
    {
     "data": {
      "text/html": [
       "<div>\n",
       "<style scoped>\n",
       "    .dataframe tbody tr th:only-of-type {\n",
       "        vertical-align: middle;\n",
       "    }\n",
       "\n",
       "    .dataframe tbody tr th {\n",
       "        vertical-align: top;\n",
       "    }\n",
       "\n",
       "    .dataframe thead th {\n",
       "        text-align: right;\n",
       "    }\n",
       "</style>\n",
       "<table border=\"1\" class=\"dataframe\">\n",
       "  <thead>\n",
       "    <tr style=\"text-align: right;\">\n",
       "      <th></th>\n",
       "      <th>P</th>\n",
       "      <th>N</th>\n",
       "      <th>TP</th>\n",
       "      <th>FP</th>\n",
       "      <th>TN</th>\n",
       "      <th>FN</th>\n",
       "    </tr>\n",
       "  </thead>\n",
       "  <tbody>\n",
       "    <tr>\n",
       "      <th>tk_beat</th>\n",
       "      <td>1452</td>\n",
       "      <td>4356</td>\n",
       "      <td>0</td>\n",
       "      <td>0</td>\n",
       "      <td>0</td>\n",
       "      <td>0</td>\n",
       "    </tr>\n",
       "    <tr>\n",
       "      <th>tk_downbeat</th>\n",
       "      <td>363</td>\n",
       "      <td>5445</td>\n",
       "      <td>12</td>\n",
       "      <td>0</td>\n",
       "      <td>0</td>\n",
       "      <td>0</td>\n",
       "    </tr>\n",
       "    <tr>\n",
       "      <th>BD_o</th>\n",
       "      <td>1365</td>\n",
       "      <td>4443</td>\n",
       "      <td>12</td>\n",
       "      <td>0</td>\n",
       "      <td>0</td>\n",
       "      <td>0</td>\n",
       "    </tr>\n",
       "    <tr>\n",
       "      <th>SD_o</th>\n",
       "      <td>681</td>\n",
       "      <td>5127</td>\n",
       "      <td>0</td>\n",
       "      <td>0</td>\n",
       "      <td>0</td>\n",
       "      <td>0</td>\n",
       "    </tr>\n",
       "    <tr>\n",
       "      <th>HH_x</th>\n",
       "      <td>510</td>\n",
       "      <td>5298</td>\n",
       "      <td>12</td>\n",
       "      <td>0</td>\n",
       "      <td>0</td>\n",
       "      <td>0</td>\n",
       "    </tr>\n",
       "    <tr>\n",
       "      <th>at_o</th>\n",
       "      <td>498</td>\n",
       "      <td>5310</td>\n",
       "      <td>0</td>\n",
       "      <td>0</td>\n",
       "      <td>0</td>\n",
       "      <td>0</td>\n",
       "    </tr>\n",
       "    <tr>\n",
       "      <th>ac_x</th>\n",
       "      <td>891</td>\n",
       "      <td>4917</td>\n",
       "      <td>0</td>\n",
       "      <td>0</td>\n",
       "      <td>0</td>\n",
       "      <td>0</td>\n",
       "    </tr>\n",
       "  </tbody>\n",
       "</table>\n",
       "</div>"
      ],
      "text/plain": [
       "                P     N  TP  FP  TN  FN\n",
       "tk_beat      1452  4356   0   0   0   0\n",
       "tk_downbeat   363  5445  12   0   0   0\n",
       "BD_o         1365  4443  12   0   0   0\n",
       "SD_o          681  5127   0   0   0   0\n",
       "HH_x          510  5298  12   0   0   0\n",
       "at_o          498  5310   0   0   0   0\n",
       "ac_x          891  4917   0   0   0   0"
      ]
     },
     "execution_count": 393,
     "metadata": {},
     "output_type": "execute_result"
    }
   ],
   "source": [
    "final_error_df"
   ]
  },
  {
   "cell_type": "code",
   "execution_count": 395,
   "metadata": {},
   "outputs": [
    {
     "name": "stdout",
     "output_type": "stream",
     "text": [
      "tk_beat        0.000000\n",
      "tk_downbeat    0.033058\n",
      "BD_o           0.008791\n",
      "SD_o           0.000000\n",
      "HH_x           0.023529\n",
      "at_o           0.000000\n",
      "ac_x           0.000000\n",
      "dtype: float64\n"
     ]
    }
   ],
   "source": [
    "accuracy = print(final_error_df['TP'] / final_error_df['P'])"
   ]
  },
  {
   "cell_type": "code",
   "execution_count": 25,
   "metadata": {},
   "outputs": [
    {
     "name": "stdout",
     "output_type": "stream",
     "text": [
      "34\n"
     ]
    }
   ],
   "source": [
    "globalstep = 34\n",
    "test_n = (globalstep % 34) if (globalstep % 34) != 0 else 34\n",
    "print(test_n)"
   ]
  },
  {
   "cell_type": "code",
   "execution_count": null,
   "metadata": {},
   "outputs": [],
   "source": []
  }
 ],
 "metadata": {
  "kernelspec": {
   "display_name": "Python 3",
   "language": "python",
   "name": "python3"
  },
  "language_info": {
   "codemirror_mode": {
    "name": "ipython",
    "version": 3
   },
   "file_extension": ".py",
   "mimetype": "text/x-python",
   "name": "python",
   "nbconvert_exporter": "python",
   "pygments_lexer": "ipython3",
   "version": "3.7.9"
  }
 },
 "nbformat": 4,
 "nbformat_minor": 4
}
