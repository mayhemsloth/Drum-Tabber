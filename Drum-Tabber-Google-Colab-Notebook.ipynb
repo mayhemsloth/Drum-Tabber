{
 "cells": [
  {
   "cell_type": "markdown",
   "metadata": {},
   "source": [
    "This Jupyter Notebook is meant to be accessed via Google Colab and will be the main method to train models on Google Colab."
   ]
  },
  {
   "cell_type": "code",
   "execution_count": 1,
   "metadata": {},
   "outputs": [],
   "source": [
    "# primary importing code block to utilize the python files\n",
    "import os\n",
    "import json\n",
    "import numpy as np\n",
    "import pandas as pd\n",
    "from pydub import AudioSegment   # main class from pydub package used to upload mp3 into Python and then get a NumPy array\n",
    "import IPython.display as ipd    # ability to play audio in Jupyter Notebooks if needed\n",
    "import librosa as lb             # loads the librosa package\n",
    "from src.configs import *\n",
    "from src.utils import MusicAlignedTab, create_FullSetMAT\n",
    "from src.dataset import create_spectrogram"
   ]
  },
  {
   "cell_type": "code",
   "execution_count": 2,
   "metadata": {
    "scrolled": true
   },
   "outputs": [
    {
     "name": "stderr",
     "output_type": "stream",
     "text": [
      "C:\\ProgramData\\Anaconda3\\lib\\site-packages\\librosa\\core\\audio.py:161: UserWarning: PySoundFile failed. Trying audioread instead.\n",
      "  warnings.warn('PySoundFile failed. Trying audioread instead.')\n"
     ]
    },
    {
     "name": "stdout",
     "output_type": "stream",
     "text": [
      "All the following prints are from combine_tab_and_song function:\n",
      "first drum note row = 384\n",
      "# of song slices post fdn = 1286\n",
      "# of song slices pre fdn = 384\n",
      "Produced number of song slices = 1670\n",
      "Expected number of song slices (should be same for non-triplet songs) = 1664.0691232048375\n",
      "tab length = 1478     datatype: <class 'int'>\n",
      "len(song_slices_tab_indexed) = 1478     datatype of object: <class 'list'>\n",
      "song_slices_tab_indexed[0].shape = (5752, 2)     datatype of [0]: <class 'numpy.ndarray'>\n",
      "np.array(song_slices_tab_indexed).shape = (1478,)\n",
      "len(sample_start_list) = 1478\n"
     ]
    }
   ],
   "source": [
    "mat = MusicAlignedTab('sow')"
   ]
  },
  {
   "cell_type": "code",
   "execution_count": 3,
   "metadata": {},
   "outputs": [
    {
     "name": "stdout",
     "output_type": "stream",
     "text": [
      "create_spectrogram: lb_song.shape = (2, 9572015)\n",
      "create_spectrogram: sr = 44100\n",
      "create_spectrogram: lb_mono.shape = (9572015,)\n",
      "create_spectrogram: mono_S.shape = (150, 21696)\n",
      "create_spectrogram: mono_S.shape after ftd = (300, 21696)\n",
      "create_spectrogram: mono_S.shape after ftd = (300, 21696)\n",
      "create_spectrogram: L_S.shape after ftd = (300, 21696)\n",
      "create_spectrogram: R_S.shape after ftd = (300, 21696)\n",
      "create_spectrogram: spectrogram.shape after ftd = (300, 21696, 3)\n",
      "create_spectrogram: spectrogram.shape after transpose = (21696, 300, 3)\n"
     ]
    }
   ],
   "source": [
    "S = create_spectrogram(mat.filepaths['song'])"
   ]
  },
  {
   "cell_type": "code",
   "execution_count": 4,
   "metadata": {},
   "outputs": [
    {
     "data": {
      "text/plain": [
       "0           100\n",
       "1          5852\n",
       "2         11604\n",
       "3         17356\n",
       "4         23108\n",
       "         ...   \n",
       "1473    8438495\n",
       "1474    8444247\n",
       "1475    8449999\n",
       "1476    8455751\n",
       "1477    8461503\n",
       "Name: sample start, Length: 1478, dtype: int64"
      ]
     },
     "execution_count": 4,
     "metadata": {},
     "output_type": "execute_result"
    }
   ],
   "source": [
    "mat.MAT['sample start']"
   ]
  },
  {
   "cell_type": "code",
   "execution_count": null,
   "metadata": {},
   "outputs": [],
   "source": [
    "MusicAlignedTab.labels_summary(mat.MAT)"
   ]
  },
  {
   "cell_type": "code",
   "execution_count": null,
   "metadata": {},
   "outputs": [],
   "source": [
    "mat.random_alignment_checker(['BD', 'SD', 'CC'], 14)"
   ]
  },
  {
   "cell_type": "code",
   "execution_count": null,
   "metadata": {},
   "outputs": [],
   "source": [
    "FullSet = create_FullSetMAT(SONGS_PATH)"
   ]
  },
  {
   "cell_type": "code",
   "execution_count": null,
   "metadata": {},
   "outputs": [],
   "source": [
    "%whos"
   ]
  },
  {
   "cell_type": "code",
   "execution_count": null,
   "metadata": {},
   "outputs": [],
   "source": []
  }
 ],
 "metadata": {
  "kernelspec": {
   "display_name": "Python 3",
   "language": "python",
   "name": "python3"
  },
  "language_info": {
   "codemirror_mode": {
    "name": "ipython",
    "version": 3
   },
   "file_extension": ".py",
   "mimetype": "text/x-python",
   "name": "python",
   "nbconvert_exporter": "python",
   "pygments_lexer": "ipython3",
   "version": "3.7.9"
  }
 },
 "nbformat": 4,
 "nbformat_minor": 4
}
